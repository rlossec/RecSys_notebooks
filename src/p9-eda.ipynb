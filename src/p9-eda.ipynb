{
 "cells": [
  {
   "cell_type": "code",
   "execution_count": 1,
   "metadata": {},
   "outputs": [
    {
     "ename": "ModuleNotFoundError",
     "evalue": "No module named 'tensorflow'",
     "output_type": "error",
     "traceback": [
      "\u001b[1;31m---------------------------------------------------------------------------\u001b[0m",
      "\u001b[1;31mModuleNotFoundError\u001b[0m                       Traceback (most recent call last)",
      "Cell \u001b[1;32mIn[1], line 1\u001b[0m\n\u001b[1;32m----> 1\u001b[0m \u001b[38;5;28;01mimport\u001b[39;00m \u001b[38;5;21;01mtensorflow\u001b[39;00m \u001b[38;5;28;01mas\u001b[39;00m \u001b[38;5;21;01mtf\u001b[39;00m\n\u001b[0;32m      2\u001b[0m \u001b[38;5;28mprint\u001b[39m(tf\u001b[38;5;241m.\u001b[39mconfig\u001b[38;5;241m.\u001b[39mlist_physical_devices(\u001b[38;5;124m'\u001b[39m\u001b[38;5;124mGPU\u001b[39m\u001b[38;5;124m'\u001b[39m))\n",
      "\u001b[1;31mModuleNotFoundError\u001b[0m: No module named 'tensorflow'"
     ]
    }
   ],
   "source": [
    "import tensorflow as tf\n",
    "print(tf.config.list_physical_devices('GPU'))"
   ]
  },
  {
   "cell_type": "code",
   "execution_count": null,
   "metadata": {},
   "outputs": [],
   "source": [
    "\n",
    "import random\n",
    "\n",
    "import pickle\n",
    "\n",
    "\n",
    "\n",
    "from datetime import datetime"
   ]
  },
  {
   "cell_type": "code",
   "execution_count": 62,
   "metadata": {},
   "outputs": [],
   "source": [
    "import os\n",
    "from pathlib import Path\n",
    "\n",
    "from datetime import datetime\n",
    "\n",
    "from tqdm import tqdm"
   ]
  },
  {
   "cell_type": "code",
   "execution_count": 4,
   "metadata": {},
   "outputs": [],
   "source": [
    "\n",
    "\n",
    "import numpy as np\n",
    "import pandas as pd\n",
    "import matplotlib.pyplot as plt\n",
    "\n"
   ]
  },
  {
   "cell_type": "code",
   "execution_count": 49,
   "metadata": {},
   "outputs": [],
   "source": [
    "# Utiliser la PCA pour réduire la dimensionnalité des embeddings à deux dimensions et visualiser les points\n",
    "from sklearn.decomposition import PCA"
   ]
  },
  {
   "cell_type": "markdown",
   "metadata": {},
   "source": [
    "# 1. Chargement des données"
   ]
  },
  {
   "cell_type": "code",
   "execution_count": 6,
   "metadata": {},
   "outputs": [],
   "source": [
    "DATA_PATH = 'data/raw/'"
   ]
  },
  {
   "cell_type": "code",
   "execution_count": 9,
   "metadata": {},
   "outputs": [
    {
     "name": "stdout",
     "output_type": "stream",
     "text": [
      "articles_embeddings.pickle\n",
      "articles_metadata.csv\n",
      "clicks\n",
      "clicks_sample.csv\n"
     ]
    }
   ],
   "source": [
    "[print(x) for x in os.listdir(DATA_PATH)];"
   ]
  },
  {
   "cell_type": "markdown",
   "metadata": {},
   "source": [
    "* **articles_metadata.csv** : Fichier avec des metadatas sur les articles\n",
    "* **articles_embeddings.pickle** : Article Content Embeddings (250-dimensional vectors)\n",
    "* **clicks** : Dossier avec des fichiers de clics pour chaque heure.\n",
    "* **clicks_sample.csv** : Exemple de fichier de clics."
   ]
  },
  {
   "cell_type": "markdown",
   "metadata": {
    "execution": {
     "iopub.execute_input": "2023-04-01T17:31:24.147400Z",
     "iopub.status.busy": "2023-04-01T17:31:24.146986Z",
     "iopub.status.idle": "2023-04-01T17:31:24.158228Z",
     "shell.execute_reply": "2023-04-01T17:31:24.156655Z",
     "shell.execute_reply.started": "2023-04-01T17:31:24.147361Z"
    }
   },
   "source": [
    "## 1.1. Fichier : article_metadata"
   ]
  },
  {
   "cell_type": "code",
   "execution_count": 10,
   "metadata": {},
   "outputs": [],
   "source": [
    "articles_metadata = pd.read_csv(DATA_PATH +'articles_metadata.csv')  "
   ]
  },
  {
   "cell_type": "markdown",
   "metadata": {},
   "source": [
    "### 1.1.1. 1er tour"
   ]
  },
  {
   "cell_type": "code",
   "execution_count": 11,
   "metadata": {},
   "outputs": [
    {
     "data": {
      "text/html": [
       "<div>\n",
       "<style scoped>\n",
       "    .dataframe tbody tr th:only-of-type {\n",
       "        vertical-align: middle;\n",
       "    }\n",
       "\n",
       "    .dataframe tbody tr th {\n",
       "        vertical-align: top;\n",
       "    }\n",
       "\n",
       "    .dataframe thead th {\n",
       "        text-align: right;\n",
       "    }\n",
       "</style>\n",
       "<table border=\"1\" class=\"dataframe\">\n",
       "  <thead>\n",
       "    <tr style=\"text-align: right;\">\n",
       "      <th></th>\n",
       "      <th>article_id</th>\n",
       "      <th>category_id</th>\n",
       "      <th>created_at_ts</th>\n",
       "      <th>publisher_id</th>\n",
       "      <th>words_count</th>\n",
       "    </tr>\n",
       "  </thead>\n",
       "  <tbody>\n",
       "    <tr>\n",
       "      <th>0</th>\n",
       "      <td>0</td>\n",
       "      <td>0</td>\n",
       "      <td>1513144419000</td>\n",
       "      <td>0</td>\n",
       "      <td>168</td>\n",
       "    </tr>\n",
       "    <tr>\n",
       "      <th>1</th>\n",
       "      <td>1</td>\n",
       "      <td>1</td>\n",
       "      <td>1405341936000</td>\n",
       "      <td>0</td>\n",
       "      <td>189</td>\n",
       "    </tr>\n",
       "    <tr>\n",
       "      <th>2</th>\n",
       "      <td>2</td>\n",
       "      <td>1</td>\n",
       "      <td>1408667706000</td>\n",
       "      <td>0</td>\n",
       "      <td>250</td>\n",
       "    </tr>\n",
       "    <tr>\n",
       "      <th>3</th>\n",
       "      <td>3</td>\n",
       "      <td>1</td>\n",
       "      <td>1408468313000</td>\n",
       "      <td>0</td>\n",
       "      <td>230</td>\n",
       "    </tr>\n",
       "    <tr>\n",
       "      <th>4</th>\n",
       "      <td>4</td>\n",
       "      <td>1</td>\n",
       "      <td>1407071171000</td>\n",
       "      <td>0</td>\n",
       "      <td>162</td>\n",
       "    </tr>\n",
       "  </tbody>\n",
       "</table>\n",
       "</div>"
      ],
      "text/plain": [
       "   article_id  category_id  created_at_ts  publisher_id  words_count\n",
       "0           0            0  1513144419000             0          168\n",
       "1           1            1  1405341936000             0          189\n",
       "2           2            1  1408667706000             0          250\n",
       "3           3            1  1408468313000             0          230\n",
       "4           4            1  1407071171000             0          162"
      ]
     },
     "execution_count": 11,
     "metadata": {},
     "output_type": "execute_result"
    }
   ],
   "source": [
    "articles_metadata.head()"
   ]
  },
  {
   "cell_type": "code",
   "execution_count": 12,
   "metadata": {},
   "outputs": [
    {
     "data": {
      "text/html": [
       "<div>\n",
       "<style scoped>\n",
       "    .dataframe tbody tr th:only-of-type {\n",
       "        vertical-align: middle;\n",
       "    }\n",
       "\n",
       "    .dataframe tbody tr th {\n",
       "        vertical-align: top;\n",
       "    }\n",
       "\n",
       "    .dataframe thead th {\n",
       "        text-align: right;\n",
       "    }\n",
       "</style>\n",
       "<table border=\"1\" class=\"dataframe\">\n",
       "  <thead>\n",
       "    <tr style=\"text-align: right;\">\n",
       "      <th></th>\n",
       "      <th>article_id</th>\n",
       "      <th>category_id</th>\n",
       "      <th>created_at_ts</th>\n",
       "      <th>publisher_id</th>\n",
       "      <th>words_count</th>\n",
       "    </tr>\n",
       "  </thead>\n",
       "  <tbody>\n",
       "    <tr>\n",
       "      <th>320660</th>\n",
       "      <td>320660</td>\n",
       "      <td>433</td>\n",
       "      <td>1501177472000</td>\n",
       "      <td>0</td>\n",
       "      <td>168</td>\n",
       "    </tr>\n",
       "    <tr>\n",
       "      <th>127664</th>\n",
       "      <td>127664</td>\n",
       "      <td>252</td>\n",
       "      <td>1475747778000</td>\n",
       "      <td>0</td>\n",
       "      <td>154</td>\n",
       "    </tr>\n",
       "    <tr>\n",
       "      <th>264717</th>\n",
       "      <td>264717</td>\n",
       "      <td>398</td>\n",
       "      <td>1509713102000</td>\n",
       "      <td>0</td>\n",
       "      <td>122</td>\n",
       "    </tr>\n",
       "    <tr>\n",
       "      <th>314677</th>\n",
       "      <td>314677</td>\n",
       "      <td>431</td>\n",
       "      <td>1500232153000</td>\n",
       "      <td>0</td>\n",
       "      <td>187</td>\n",
       "    </tr>\n",
       "    <tr>\n",
       "      <th>191337</th>\n",
       "      <td>191337</td>\n",
       "      <td>305</td>\n",
       "      <td>1514367382000</td>\n",
       "      <td>0</td>\n",
       "      <td>113</td>\n",
       "    </tr>\n",
       "  </tbody>\n",
       "</table>\n",
       "</div>"
      ],
      "text/plain": [
       "        article_id  category_id  created_at_ts  publisher_id  words_count\n",
       "320660      320660          433  1501177472000             0          168\n",
       "127664      127664          252  1475747778000             0          154\n",
       "264717      264717          398  1509713102000             0          122\n",
       "314677      314677          431  1500232153000             0          187\n",
       "191337      191337          305  1514367382000             0          113"
      ]
     },
     "execution_count": 12,
     "metadata": {},
     "output_type": "execute_result"
    }
   ],
   "source": [
    "articles_metadata.sample(5)"
   ]
  },
  {
   "cell_type": "code",
   "execution_count": 13,
   "metadata": {},
   "outputs": [
    {
     "data": {
      "text/html": [
       "<div>\n",
       "<style scoped>\n",
       "    .dataframe tbody tr th:only-of-type {\n",
       "        vertical-align: middle;\n",
       "    }\n",
       "\n",
       "    .dataframe tbody tr th {\n",
       "        vertical-align: top;\n",
       "    }\n",
       "\n",
       "    .dataframe thead th {\n",
       "        text-align: right;\n",
       "    }\n",
       "</style>\n",
       "<table border=\"1\" class=\"dataframe\">\n",
       "  <thead>\n",
       "    <tr style=\"text-align: right;\">\n",
       "      <th></th>\n",
       "      <th>article_id</th>\n",
       "      <th>category_id</th>\n",
       "      <th>created_at_ts</th>\n",
       "      <th>publisher_id</th>\n",
       "      <th>words_count</th>\n",
       "    </tr>\n",
       "  </thead>\n",
       "  <tbody>\n",
       "    <tr>\n",
       "      <th>364042</th>\n",
       "      <td>364042</td>\n",
       "      <td>460</td>\n",
       "      <td>1434034118000</td>\n",
       "      <td>0</td>\n",
       "      <td>144</td>\n",
       "    </tr>\n",
       "    <tr>\n",
       "      <th>364043</th>\n",
       "      <td>364043</td>\n",
       "      <td>460</td>\n",
       "      <td>1434148472000</td>\n",
       "      <td>0</td>\n",
       "      <td>463</td>\n",
       "    </tr>\n",
       "    <tr>\n",
       "      <th>364044</th>\n",
       "      <td>364044</td>\n",
       "      <td>460</td>\n",
       "      <td>1457974279000</td>\n",
       "      <td>0</td>\n",
       "      <td>177</td>\n",
       "    </tr>\n",
       "    <tr>\n",
       "      <th>364045</th>\n",
       "      <td>364045</td>\n",
       "      <td>460</td>\n",
       "      <td>1515964737000</td>\n",
       "      <td>0</td>\n",
       "      <td>126</td>\n",
       "    </tr>\n",
       "    <tr>\n",
       "      <th>364046</th>\n",
       "      <td>364046</td>\n",
       "      <td>460</td>\n",
       "      <td>1505811330000</td>\n",
       "      <td>0</td>\n",
       "      <td>479</td>\n",
       "    </tr>\n",
       "  </tbody>\n",
       "</table>\n",
       "</div>"
      ],
      "text/plain": [
       "        article_id  category_id  created_at_ts  publisher_id  words_count\n",
       "364042      364042          460  1434034118000             0          144\n",
       "364043      364043          460  1434148472000             0          463\n",
       "364044      364044          460  1457974279000             0          177\n",
       "364045      364045          460  1515964737000             0          126\n",
       "364046      364046          460  1505811330000             0          479"
      ]
     },
     "execution_count": 13,
     "metadata": {},
     "output_type": "execute_result"
    }
   ],
   "source": [
    "articles_metadata.tail()"
   ]
  },
  {
   "cell_type": "code",
   "execution_count": 14,
   "metadata": {},
   "outputs": [
    {
     "data": {
      "text/html": [
       "<div>\n",
       "<style scoped>\n",
       "    .dataframe tbody tr th:only-of-type {\n",
       "        vertical-align: middle;\n",
       "    }\n",
       "\n",
       "    .dataframe tbody tr th {\n",
       "        vertical-align: top;\n",
       "    }\n",
       "\n",
       "    .dataframe thead th {\n",
       "        text-align: right;\n",
       "    }\n",
       "</style>\n",
       "<table border=\"1\" class=\"dataframe\">\n",
       "  <thead>\n",
       "    <tr style=\"text-align: right;\">\n",
       "      <th></th>\n",
       "      <th>article_id</th>\n",
       "      <th>category_id</th>\n",
       "      <th>created_at_ts</th>\n",
       "      <th>publisher_id</th>\n",
       "      <th>words_count</th>\n",
       "    </tr>\n",
       "  </thead>\n",
       "  <tbody>\n",
       "    <tr>\n",
       "      <th>count</th>\n",
       "      <td>364047.000000</td>\n",
       "      <td>364047.000000</td>\n",
       "      <td>3.640470e+05</td>\n",
       "      <td>364047.0</td>\n",
       "      <td>364047.000000</td>\n",
       "    </tr>\n",
       "    <tr>\n",
       "      <th>mean</th>\n",
       "      <td>182023.000000</td>\n",
       "      <td>283.108239</td>\n",
       "      <td>1.474070e+12</td>\n",
       "      <td>0.0</td>\n",
       "      <td>190.897727</td>\n",
       "    </tr>\n",
       "    <tr>\n",
       "      <th>std</th>\n",
       "      <td>105091.461061</td>\n",
       "      <td>136.723470</td>\n",
       "      <td>4.293038e+10</td>\n",
       "      <td>0.0</td>\n",
       "      <td>59.502766</td>\n",
       "    </tr>\n",
       "    <tr>\n",
       "      <th>min</th>\n",
       "      <td>0.000000</td>\n",
       "      <td>0.000000</td>\n",
       "      <td>1.159356e+12</td>\n",
       "      <td>0.0</td>\n",
       "      <td>0.000000</td>\n",
       "    </tr>\n",
       "    <tr>\n",
       "      <th>25%</th>\n",
       "      <td>91011.500000</td>\n",
       "      <td>199.000000</td>\n",
       "      <td>1.444925e+12</td>\n",
       "      <td>0.0</td>\n",
       "      <td>159.000000</td>\n",
       "    </tr>\n",
       "    <tr>\n",
       "      <th>50%</th>\n",
       "      <td>182023.000000</td>\n",
       "      <td>301.000000</td>\n",
       "      <td>1.489422e+12</td>\n",
       "      <td>0.0</td>\n",
       "      <td>186.000000</td>\n",
       "    </tr>\n",
       "    <tr>\n",
       "      <th>75%</th>\n",
       "      <td>273034.500000</td>\n",
       "      <td>399.000000</td>\n",
       "      <td>1.509891e+12</td>\n",
       "      <td>0.0</td>\n",
       "      <td>218.000000</td>\n",
       "    </tr>\n",
       "    <tr>\n",
       "      <th>max</th>\n",
       "      <td>364046.000000</td>\n",
       "      <td>460.000000</td>\n",
       "      <td>1.520943e+12</td>\n",
       "      <td>0.0</td>\n",
       "      <td>6690.000000</td>\n",
       "    </tr>\n",
       "  </tbody>\n",
       "</table>\n",
       "</div>"
      ],
      "text/plain": [
       "          article_id    category_id  created_at_ts  publisher_id  \\\n",
       "count  364047.000000  364047.000000   3.640470e+05      364047.0   \n",
       "mean   182023.000000     283.108239   1.474070e+12           0.0   \n",
       "std    105091.461061     136.723470   4.293038e+10           0.0   \n",
       "min         0.000000       0.000000   1.159356e+12           0.0   \n",
       "25%     91011.500000     199.000000   1.444925e+12           0.0   \n",
       "50%    182023.000000     301.000000   1.489422e+12           0.0   \n",
       "75%    273034.500000     399.000000   1.509891e+12           0.0   \n",
       "max    364046.000000     460.000000   1.520943e+12           0.0   \n",
       "\n",
       "         words_count  \n",
       "count  364047.000000  \n",
       "mean      190.897727  \n",
       "std        59.502766  \n",
       "min         0.000000  \n",
       "25%       159.000000  \n",
       "50%       186.000000  \n",
       "75%       218.000000  \n",
       "max      6690.000000  "
      ]
     },
     "execution_count": 14,
     "metadata": {},
     "output_type": "execute_result"
    }
   ],
   "source": [
    "articles_metadata.describe()"
   ]
  },
  {
   "cell_type": "code",
   "execution_count": 15,
   "metadata": {},
   "outputs": [
    {
     "data": {
      "text/plain": [
       "(364047, 5)"
      ]
     },
     "execution_count": 15,
     "metadata": {},
     "output_type": "execute_result"
    }
   ],
   "source": [
    "articles_metadata.shape"
   ]
  },
  {
   "cell_type": "markdown",
   "metadata": {},
   "source": [
    "On a un jeu de données de 5 variables pour 364 047 articles.\n",
    "\n",
    "Les 5 variables sont donc :\n",
    "\n",
    "* **article_id**    : l'identifiant de l'article\n",
    "* **category_id**   : l'identifiant de la catégorie\n",
    "* **created_at_ts** : la date en millisecondes de la publication de l'article\n",
    "* **publisher_id**  : l'identifiant de celui qui publie\n",
    "* **words_cound**   : le nombre de mot de l'article\n",
    "\n",
    "Observations :\n",
    "\n",
    "* Il n'y a aucunes valeurs manquantes\n",
    "* La colonne publisher_id est  vide\n",
    "* les dates sont à reformater (timestamps Unix, qui correspondent au nombre de secondes écoulées depuis le 1er janvier 1970 à 00:00:00 UTC)\n",
    "* Un article avec 0 mot ?\n"
   ]
  },
  {
   "cell_type": "markdown",
   "metadata": {},
   "source": [
    "### 1.1.2. Premiers traitements\n",
    "\n",
    "On peut supprimer la colonne publisher_id et reformater les dates"
   ]
  },
  {
   "cell_type": "code",
   "execution_count": 16,
   "metadata": {},
   "outputs": [],
   "source": [
    "articles_metadata[\"created_at_ts\"] = pd.to_datetime(articles_metadata[\"created_at_ts\"], unit=\"ms\")"
   ]
  },
  {
   "cell_type": "markdown",
   "metadata": {},
   "source": [
    "Vérification de la première date"
   ]
  },
  {
   "cell_type": "code",
   "execution_count": 20,
   "metadata": {},
   "outputs": [
    {
     "name": "stdout",
     "output_type": "stream",
     "text": [
      "2017-12-13 06:53:39\n"
     ]
    }
   ],
   "source": [
    "timestamp = 1513144419000\n",
    "date = datetime.fromtimestamp(timestamp/1000.0)\n",
    "print(date)"
   ]
  },
  {
   "cell_type": "code",
   "execution_count": 21,
   "metadata": {},
   "outputs": [
    {
     "data": {
      "text/html": [
       "<div>\n",
       "<style scoped>\n",
       "    .dataframe tbody tr th:only-of-type {\n",
       "        vertical-align: middle;\n",
       "    }\n",
       "\n",
       "    .dataframe tbody tr th {\n",
       "        vertical-align: top;\n",
       "    }\n",
       "\n",
       "    .dataframe thead th {\n",
       "        text-align: right;\n",
       "    }\n",
       "</style>\n",
       "<table border=\"1\" class=\"dataframe\">\n",
       "  <thead>\n",
       "    <tr style=\"text-align: right;\">\n",
       "      <th></th>\n",
       "      <th>article_id</th>\n",
       "      <th>category_id</th>\n",
       "      <th>created_at_ts</th>\n",
       "      <th>publisher_id</th>\n",
       "      <th>words_count</th>\n",
       "    </tr>\n",
       "  </thead>\n",
       "  <tbody>\n",
       "    <tr>\n",
       "      <th>0</th>\n",
       "      <td>0</td>\n",
       "      <td>0</td>\n",
       "      <td>2017-12-13 05:53:39</td>\n",
       "      <td>0</td>\n",
       "      <td>168</td>\n",
       "    </tr>\n",
       "  </tbody>\n",
       "</table>\n",
       "</div>"
      ],
      "text/plain": [
       "   article_id  category_id       created_at_ts  publisher_id  words_count\n",
       "0           0            0 2017-12-13 05:53:39             0          168"
      ]
     },
     "execution_count": 21,
     "metadata": {},
     "output_type": "execute_result"
    }
   ],
   "source": [
    "articles_metadata.head(1)"
   ]
  },
  {
   "cell_type": "code",
   "execution_count": 22,
   "metadata": {},
   "outputs": [],
   "source": [
    "articles_metadata.drop(columns=[\"publisher_id\"], inplace=True)"
   ]
  },
  {
   "cell_type": "code",
   "execution_count": 23,
   "metadata": {},
   "outputs": [
    {
     "data": {
      "text/plain": [
       "article_id                int64\n",
       "category_id               int64\n",
       "created_at_ts    datetime64[ns]\n",
       "words_count               int64\n",
       "dtype: object"
      ]
     },
     "execution_count": 23,
     "metadata": {},
     "output_type": "execute_result"
    }
   ],
   "source": [
    "articles_metadata.dtypes"
   ]
  },
  {
   "cell_type": "code",
   "execution_count": 24,
   "metadata": {},
   "outputs": [
    {
     "data": {
      "text/html": [
       "<div>\n",
       "<style scoped>\n",
       "    .dataframe tbody tr th:only-of-type {\n",
       "        vertical-align: middle;\n",
       "    }\n",
       "\n",
       "    .dataframe tbody tr th {\n",
       "        vertical-align: top;\n",
       "    }\n",
       "\n",
       "    .dataframe thead th {\n",
       "        text-align: right;\n",
       "    }\n",
       "</style>\n",
       "<table border=\"1\" class=\"dataframe\">\n",
       "  <thead>\n",
       "    <tr style=\"text-align: right;\">\n",
       "      <th></th>\n",
       "      <th>article_id</th>\n",
       "      <th>category_id</th>\n",
       "      <th>created_at_ts</th>\n",
       "      <th>words_count</th>\n",
       "    </tr>\n",
       "  </thead>\n",
       "  <tbody>\n",
       "    <tr>\n",
       "      <th>0</th>\n",
       "      <td>0</td>\n",
       "      <td>0</td>\n",
       "      <td>2017-12-13 05:53:39</td>\n",
       "      <td>168</td>\n",
       "    </tr>\n",
       "    <tr>\n",
       "      <th>1</th>\n",
       "      <td>1</td>\n",
       "      <td>1</td>\n",
       "      <td>2014-07-14 12:45:36</td>\n",
       "      <td>189</td>\n",
       "    </tr>\n",
       "    <tr>\n",
       "      <th>2</th>\n",
       "      <td>2</td>\n",
       "      <td>1</td>\n",
       "      <td>2014-08-22 00:35:06</td>\n",
       "      <td>250</td>\n",
       "    </tr>\n",
       "    <tr>\n",
       "      <th>3</th>\n",
       "      <td>3</td>\n",
       "      <td>1</td>\n",
       "      <td>2014-08-19 17:11:53</td>\n",
       "      <td>230</td>\n",
       "    </tr>\n",
       "    <tr>\n",
       "      <th>4</th>\n",
       "      <td>4</td>\n",
       "      <td>1</td>\n",
       "      <td>2014-08-03 13:06:11</td>\n",
       "      <td>162</td>\n",
       "    </tr>\n",
       "  </tbody>\n",
       "</table>\n",
       "</div>"
      ],
      "text/plain": [
       "   article_id  category_id       created_at_ts  words_count\n",
       "0           0            0 2017-12-13 05:53:39          168\n",
       "1           1            1 2014-07-14 12:45:36          189\n",
       "2           2            1 2014-08-22 00:35:06          250\n",
       "3           3            1 2014-08-19 17:11:53          230\n",
       "4           4            1 2014-08-03 13:06:11          162"
      ]
     },
     "execution_count": 24,
     "metadata": {},
     "output_type": "execute_result"
    }
   ],
   "source": [
    "articles_metadata.head(5)"
   ]
  },
  {
   "cell_type": "markdown",
   "metadata": {},
   "source": [
    "### 1.1.3. Variable \"words_count\""
   ]
  },
  {
   "cell_type": "code",
   "execution_count": 25,
   "metadata": {},
   "outputs": [
    {
     "name": "stdout",
     "output_type": "stream",
     "text": [
      "(35, 4)\n"
     ]
    },
    {
     "data": {
      "text/html": [
       "<div>\n",
       "<style scoped>\n",
       "    .dataframe tbody tr th:only-of-type {\n",
       "        vertical-align: middle;\n",
       "    }\n",
       "\n",
       "    .dataframe tbody tr th {\n",
       "        vertical-align: top;\n",
       "    }\n",
       "\n",
       "    .dataframe thead th {\n",
       "        text-align: right;\n",
       "    }\n",
       "</style>\n",
       "<table border=\"1\" class=\"dataframe\">\n",
       "  <thead>\n",
       "    <tr style=\"text-align: right;\">\n",
       "      <th></th>\n",
       "      <th>article_id</th>\n",
       "      <th>category_id</th>\n",
       "      <th>created_at_ts</th>\n",
       "      <th>words_count</th>\n",
       "    </tr>\n",
       "  </thead>\n",
       "  <tbody>\n",
       "    <tr>\n",
       "      <th>35491</th>\n",
       "      <td>35491</td>\n",
       "      <td>43</td>\n",
       "      <td>2016-08-04 09:42:02</td>\n",
       "      <td>0</td>\n",
       "    </tr>\n",
       "    <tr>\n",
       "      <th>38472</th>\n",
       "      <td>38472</td>\n",
       "      <td>51</td>\n",
       "      <td>2011-04-21 21:22:43</td>\n",
       "      <td>0</td>\n",
       "    </tr>\n",
       "    <tr>\n",
       "      <th>39043</th>\n",
       "      <td>39043</td>\n",
       "      <td>64</td>\n",
       "      <td>2014-06-30 20:02:35</td>\n",
       "      <td>0</td>\n",
       "    </tr>\n",
       "    <tr>\n",
       "      <th>39054</th>\n",
       "      <td>39054</td>\n",
       "      <td>64</td>\n",
       "      <td>2015-01-21 21:30:33</td>\n",
       "      <td>0</td>\n",
       "    </tr>\n",
       "    <tr>\n",
       "      <th>164414</th>\n",
       "      <td>164414</td>\n",
       "      <td>288</td>\n",
       "      <td>2015-03-30 08:30:23</td>\n",
       "      <td>0</td>\n",
       "    </tr>\n",
       "    <tr>\n",
       "      <th>206233</th>\n",
       "      <td>206233</td>\n",
       "      <td>331</td>\n",
       "      <td>2017-09-30 17:11:56</td>\n",
       "      <td>0</td>\n",
       "    </tr>\n",
       "    <tr>\n",
       "      <th>212323</th>\n",
       "      <td>212323</td>\n",
       "      <td>343</td>\n",
       "      <td>2010-04-19 10:36:16</td>\n",
       "      <td>0</td>\n",
       "    </tr>\n",
       "    <tr>\n",
       "      <th>212324</th>\n",
       "      <td>212324</td>\n",
       "      <td>343</td>\n",
       "      <td>2010-04-16 18:49:55</td>\n",
       "      <td>0</td>\n",
       "    </tr>\n",
       "    <tr>\n",
       "      <th>212327</th>\n",
       "      <td>212327</td>\n",
       "      <td>343</td>\n",
       "      <td>2014-08-11 20:23:05</td>\n",
       "      <td>0</td>\n",
       "    </tr>\n",
       "    <tr>\n",
       "      <th>212526</th>\n",
       "      <td>212526</td>\n",
       "      <td>347</td>\n",
       "      <td>2018-01-28 19:38:55</td>\n",
       "      <td>0</td>\n",
       "    </tr>\n",
       "    <tr>\n",
       "      <th>233934</th>\n",
       "      <td>233934</td>\n",
       "      <td>375</td>\n",
       "      <td>2017-10-05 13:44:16</td>\n",
       "      <td>0</td>\n",
       "    </tr>\n",
       "    <tr>\n",
       "      <th>236119</th>\n",
       "      <td>236119</td>\n",
       "      <td>375</td>\n",
       "      <td>2017-08-17 10:32:17</td>\n",
       "      <td>0</td>\n",
       "    </tr>\n",
       "    <tr>\n",
       "      <th>248114</th>\n",
       "      <td>248114</td>\n",
       "      <td>386</td>\n",
       "      <td>2018-01-28 00:36:21</td>\n",
       "      <td>0</td>\n",
       "    </tr>\n",
       "    <tr>\n",
       "      <th>275183</th>\n",
       "      <td>275183</td>\n",
       "      <td>408</td>\n",
       "      <td>2014-05-20 11:27:41</td>\n",
       "      <td>0</td>\n",
       "    </tr>\n",
       "    <tr>\n",
       "      <th>315386</th>\n",
       "      <td>315386</td>\n",
       "      <td>431</td>\n",
       "      <td>2015-01-14 10:19:35</td>\n",
       "      <td>0</td>\n",
       "    </tr>\n",
       "    <tr>\n",
       "      <th>315387</th>\n",
       "      <td>315387</td>\n",
       "      <td>431</td>\n",
       "      <td>2015-01-13 14:01:03</td>\n",
       "      <td>0</td>\n",
       "    </tr>\n",
       "    <tr>\n",
       "      <th>315388</th>\n",
       "      <td>315388</td>\n",
       "      <td>431</td>\n",
       "      <td>2015-01-14 11:27:14</td>\n",
       "      <td>0</td>\n",
       "    </tr>\n",
       "    <tr>\n",
       "      <th>315389</th>\n",
       "      <td>315389</td>\n",
       "      <td>431</td>\n",
       "      <td>2015-01-20 12:29:19</td>\n",
       "      <td>0</td>\n",
       "    </tr>\n",
       "    <tr>\n",
       "      <th>315390</th>\n",
       "      <td>315390</td>\n",
       "      <td>431</td>\n",
       "      <td>2015-01-14 11:51:29</td>\n",
       "      <td>0</td>\n",
       "    </tr>\n",
       "    <tr>\n",
       "      <th>315391</th>\n",
       "      <td>315391</td>\n",
       "      <td>431</td>\n",
       "      <td>2015-01-29 08:46:41</td>\n",
       "      <td>0</td>\n",
       "    </tr>\n",
       "    <tr>\n",
       "      <th>315392</th>\n",
       "      <td>315392</td>\n",
       "      <td>431</td>\n",
       "      <td>2015-01-23 10:19:51</td>\n",
       "      <td>0</td>\n",
       "    </tr>\n",
       "    <tr>\n",
       "      <th>315393</th>\n",
       "      <td>315393</td>\n",
       "      <td>431</td>\n",
       "      <td>2015-01-16 12:03:14</td>\n",
       "      <td>0</td>\n",
       "    </tr>\n",
       "    <tr>\n",
       "      <th>315394</th>\n",
       "      <td>315394</td>\n",
       "      <td>431</td>\n",
       "      <td>2015-02-02 10:00:27</td>\n",
       "      <td>0</td>\n",
       "    </tr>\n",
       "    <tr>\n",
       "      <th>315395</th>\n",
       "      <td>315395</td>\n",
       "      <td>431</td>\n",
       "      <td>2015-02-05 11:34:59</td>\n",
       "      <td>0</td>\n",
       "    </tr>\n",
       "    <tr>\n",
       "      <th>315396</th>\n",
       "      <td>315396</td>\n",
       "      <td>431</td>\n",
       "      <td>2015-02-06 09:02:47</td>\n",
       "      <td>0</td>\n",
       "    </tr>\n",
       "    <tr>\n",
       "      <th>315397</th>\n",
       "      <td>315397</td>\n",
       "      <td>431</td>\n",
       "      <td>2015-02-04 08:59:56</td>\n",
       "      <td>0</td>\n",
       "    </tr>\n",
       "    <tr>\n",
       "      <th>315398</th>\n",
       "      <td>315398</td>\n",
       "      <td>431</td>\n",
       "      <td>2015-02-04 09:59:18</td>\n",
       "      <td>0</td>\n",
       "    </tr>\n",
       "    <tr>\n",
       "      <th>315788</th>\n",
       "      <td>315788</td>\n",
       "      <td>431</td>\n",
       "      <td>2015-01-26 12:23:48</td>\n",
       "      <td>0</td>\n",
       "    </tr>\n",
       "    <tr>\n",
       "      <th>315789</th>\n",
       "      <td>315789</td>\n",
       "      <td>431</td>\n",
       "      <td>2015-01-09 09:08:09</td>\n",
       "      <td>0</td>\n",
       "    </tr>\n",
       "    <tr>\n",
       "      <th>315790</th>\n",
       "      <td>315790</td>\n",
       "      <td>431</td>\n",
       "      <td>2015-02-26 09:22:33</td>\n",
       "      <td>0</td>\n",
       "    </tr>\n",
       "    <tr>\n",
       "      <th>315791</th>\n",
       "      <td>315791</td>\n",
       "      <td>431</td>\n",
       "      <td>2015-02-09 09:00:04</td>\n",
       "      <td>0</td>\n",
       "    </tr>\n",
       "    <tr>\n",
       "      <th>315792</th>\n",
       "      <td>315792</td>\n",
       "      <td>431</td>\n",
       "      <td>2015-03-10 11:47:53</td>\n",
       "      <td>0</td>\n",
       "    </tr>\n",
       "    <tr>\n",
       "      <th>315793</th>\n",
       "      <td>315793</td>\n",
       "      <td>431</td>\n",
       "      <td>2015-03-10 12:00:20</td>\n",
       "      <td>0</td>\n",
       "    </tr>\n",
       "    <tr>\n",
       "      <th>328318</th>\n",
       "      <td>328318</td>\n",
       "      <td>436</td>\n",
       "      <td>2017-05-04 17:28:34</td>\n",
       "      <td>0</td>\n",
       "    </tr>\n",
       "    <tr>\n",
       "      <th>333154</th>\n",
       "      <td>333154</td>\n",
       "      <td>437</td>\n",
       "      <td>2017-06-30 15:53:47</td>\n",
       "      <td>0</td>\n",
       "    </tr>\n",
       "  </tbody>\n",
       "</table>\n",
       "</div>"
      ],
      "text/plain": [
       "        article_id  category_id       created_at_ts  words_count\n",
       "35491        35491           43 2016-08-04 09:42:02            0\n",
       "38472        38472           51 2011-04-21 21:22:43            0\n",
       "39043        39043           64 2014-06-30 20:02:35            0\n",
       "39054        39054           64 2015-01-21 21:30:33            0\n",
       "164414      164414          288 2015-03-30 08:30:23            0\n",
       "206233      206233          331 2017-09-30 17:11:56            0\n",
       "212323      212323          343 2010-04-19 10:36:16            0\n",
       "212324      212324          343 2010-04-16 18:49:55            0\n",
       "212327      212327          343 2014-08-11 20:23:05            0\n",
       "212526      212526          347 2018-01-28 19:38:55            0\n",
       "233934      233934          375 2017-10-05 13:44:16            0\n",
       "236119      236119          375 2017-08-17 10:32:17            0\n",
       "248114      248114          386 2018-01-28 00:36:21            0\n",
       "275183      275183          408 2014-05-20 11:27:41            0\n",
       "315386      315386          431 2015-01-14 10:19:35            0\n",
       "315387      315387          431 2015-01-13 14:01:03            0\n",
       "315388      315388          431 2015-01-14 11:27:14            0\n",
       "315389      315389          431 2015-01-20 12:29:19            0\n",
       "315390      315390          431 2015-01-14 11:51:29            0\n",
       "315391      315391          431 2015-01-29 08:46:41            0\n",
       "315392      315392          431 2015-01-23 10:19:51            0\n",
       "315393      315393          431 2015-01-16 12:03:14            0\n",
       "315394      315394          431 2015-02-02 10:00:27            0\n",
       "315395      315395          431 2015-02-05 11:34:59            0\n",
       "315396      315396          431 2015-02-06 09:02:47            0\n",
       "315397      315397          431 2015-02-04 08:59:56            0\n",
       "315398      315398          431 2015-02-04 09:59:18            0\n",
       "315788      315788          431 2015-01-26 12:23:48            0\n",
       "315789      315789          431 2015-01-09 09:08:09            0\n",
       "315790      315790          431 2015-02-26 09:22:33            0\n",
       "315791      315791          431 2015-02-09 09:00:04            0\n",
       "315792      315792          431 2015-03-10 11:47:53            0\n",
       "315793      315793          431 2015-03-10 12:00:20            0\n",
       "328318      328318          436 2017-05-04 17:28:34            0\n",
       "333154      333154          437 2017-06-30 15:53:47            0"
      ]
     },
     "execution_count": 25,
     "metadata": {},
     "output_type": "execute_result"
    }
   ],
   "source": [
    "print(articles_metadata[articles_metadata.words_count == 0].shape)\n",
    "articles_metadata[articles_metadata.words_count == 0]"
   ]
  },
  {
   "cell_type": "markdown",
   "metadata": {},
   "source": [
    "35 articles sont indiqués comme vide, on peut penser que l'alimentation de la variable n'a pas fonctionné. On conserve les articles puisque cette variable n'est pas centrale."
   ]
  },
  {
   "cell_type": "code",
   "execution_count": 26,
   "metadata": {},
   "outputs": [
    {
     "data": {
      "image/png": "[encoded data removed]",
      "text/plain": [
       "<Figure size 640x480 with 1 Axes>"
      ]
     },
     "metadata": {},
     "output_type": "display_data"
    }
   ],
   "source": [
    "articles_metadata[\"words_count\"].plot(kind=\"box\")\n",
    "plt.show()"
   ]
  },
  {
   "cell_type": "code",
   "execution_count": 27,
   "metadata": {},
   "outputs": [
    {
     "data": {
      "image/png": "[encoded data removed]",
      "text/plain": [
       "<Figure size 640x480 with 1 Axes>"
      ]
     },
     "metadata": {},
     "output_type": "display_data"
    }
   ],
   "source": [
    "articles_metadata.words_count.hist(bins=50, range=(0,400))\n",
    "plt.title('Nombre de mots par article');"
   ]
  },
  {
   "cell_type": "markdown",
   "metadata": {},
   "source": [
    "### 1.1.4. Variable \"created_at\""
   ]
  },
  {
   "cell_type": "code",
   "execution_count": 28,
   "metadata": {},
   "outputs": [
    {
     "name": "stdout",
     "output_type": "stream",
     "text": [
      "Date la plus ancienne : 2006-09-27 11:14:35\n",
      "Date la plus récente : 2018-03-13 12:12:30\n",
      "\n",
      "\n"
     ]
    },
    {
     "data": {
      "image/png": "[encoded data removed]",
      "text/plain": [
       "<Figure size 640x480 with 1 Axes>"
      ]
     },
     "metadata": {},
     "output_type": "display_data"
    }
   ],
   "source": [
    "print(\"Date la plus ancienne :\", articles_metadata[\"created_at_ts\"].min())\n",
    "print(\"Date la plus récente :\", articles_metadata[\"created_at_ts\"].max())\n",
    "print(\"\\n\")\n",
    "\n",
    "plt.hist(articles_metadata[\"created_at_ts\"], bins=50)\n",
    "plt.xlabel(\"Date de publication\")\n",
    "plt.ylabel(\"Nombre d'articles\")\n",
    "plt.show()"
   ]
  },
  {
   "cell_type": "markdown",
   "metadata": {},
   "source": [
    "Assez peu d'articles avant 2013 et beaucoup à partir de 2017."
   ]
  },
  {
   "cell_type": "markdown",
   "metadata": {},
   "source": [
    "### 1.1.5. Variable category"
   ]
  },
  {
   "cell_type": "code",
   "execution_count": 29,
   "metadata": {},
   "outputs": [],
   "source": [
    "category_counts = articles_metadata[\"category_id\"].value_counts()\n",
    "category_percent = articles_metadata[\"category_id\"].value_counts(normalize=True)"
   ]
  },
  {
   "cell_type": "markdown",
   "metadata": {},
   "source": [
    "Top 20 des catégories"
   ]
  },
  {
   "cell_type": "code",
   "execution_count": 30,
   "metadata": {},
   "outputs": [
    {
     "data": {
      "text/plain": [
       "category_id\n",
       "281    0.035207\n",
       "375    0.027483\n",
       "399    0.024857\n",
       "412    0.023755\n",
       "431    0.021313\n",
       "428    0.021236\n",
       "26     0.020170\n",
       "7      0.018476\n",
       "299    0.018223\n",
       "301    0.017707\n",
       "228    0.017638\n",
       "442    0.016789\n",
       "437    0.016528\n",
       "118    0.015525\n",
       "209    0.015424\n",
       "354    0.015097\n",
       "6      0.014328\n",
       "136    0.014234\n",
       "455    0.014114\n",
       "174    0.013921\n",
       "Name: proportion, dtype: float64"
      ]
     },
     "execution_count": 30,
     "metadata": {},
     "output_type": "execute_result"
    }
   ],
   "source": [
    "category_percent[:20]"
   ]
  },
  {
   "cell_type": "markdown",
   "metadata": {},
   "source": [
    "Environ 50 catégories correspondant à un seul article :"
   ]
  },
  {
   "cell_type": "code",
   "execution_count": 31,
   "metadata": {},
   "outputs": [
    {
     "data": {
      "text/plain": [
       "category_id\n",
       "112    2\n",
       "346    2\n",
       "425    1\n",
       "35     1\n",
       "427    1\n",
       "5      1\n",
       "451    1\n",
       "248    1\n",
       "108    1\n",
       "419    1\n",
       "321    1\n",
       "155    1\n",
       "159    1\n",
       "181    1\n",
       "183    1\n",
       "294    1\n",
       "293    1\n",
       "292    1\n",
       "189    1\n",
       "283    1\n",
       "282    1\n",
       "275    1\n",
       "206    1\n",
       "217    1\n",
       "261    1\n",
       "227    1\n",
       "232    1\n",
       "236    1\n",
       "154    1\n",
       "324    1\n",
       "416    1\n",
       "144    1\n",
       "50     1\n",
       "57     1\n",
       "394    1\n",
       "73     1\n",
       "75     1\n",
       "78     1\n",
       "383    1\n",
       "86     1\n",
       "98     1\n",
       "100    1\n",
       "358    1\n",
       "356    1\n",
       "113    1\n",
       "341    1\n",
       "121    1\n",
       "335    1\n",
       "131    1\n",
       "0      1\n",
       "Name: count, dtype: int64"
      ]
     },
     "execution_count": 31,
     "metadata": {},
     "output_type": "execute_result"
    }
   ],
   "source": [
    "category_counts[-50:]"
   ]
  },
  {
   "cell_type": "markdown",
   "metadata": {},
   "source": [
    "### 1.1.5. Valeurs manquantes"
   ]
  },
  {
   "cell_type": "code",
   "execution_count": 32,
   "metadata": {},
   "outputs": [
    {
     "data": {
      "text/plain": [
       "article_id       0\n",
       "category_id      0\n",
       "created_at_ts    0\n",
       "words_count      0\n",
       "dtype: int64"
      ]
     },
     "execution_count": 32,
     "metadata": {},
     "output_type": "execute_result"
    }
   ],
   "source": [
    "articles_metadata.isnull().sum()"
   ]
  },
  {
   "cell_type": "markdown",
   "metadata": {},
   "source": [
    "### 1.1.6. Valeurs dupliquées"
   ]
  },
  {
   "cell_type": "markdown",
   "metadata": {},
   "source": [
    "Sur l'identifiant, pas de duplication."
   ]
  },
  {
   "cell_type": "code",
   "execution_count": 33,
   "metadata": {},
   "outputs": [
    {
     "data": {
      "text/html": [
       "<div>\n",
       "<style scoped>\n",
       "    .dataframe tbody tr th:only-of-type {\n",
       "        vertical-align: middle;\n",
       "    }\n",
       "\n",
       "    .dataframe tbody tr th {\n",
       "        vertical-align: top;\n",
       "    }\n",
       "\n",
       "    .dataframe thead th {\n",
       "        text-align: right;\n",
       "    }\n",
       "</style>\n",
       "<table border=\"1\" class=\"dataframe\">\n",
       "  <thead>\n",
       "    <tr style=\"text-align: right;\">\n",
       "      <th></th>\n",
       "      <th>article_id</th>\n",
       "      <th>category_id</th>\n",
       "      <th>created_at_ts</th>\n",
       "      <th>words_count</th>\n",
       "    </tr>\n",
       "  </thead>\n",
       "  <tbody>\n",
       "  </tbody>\n",
       "</table>\n",
       "</div>"
      ],
      "text/plain": [
       "Empty DataFrame\n",
       "Columns: [article_id, category_id, created_at_ts, words_count]\n",
       "Index: []"
      ]
     },
     "execution_count": 33,
     "metadata": {},
     "output_type": "execute_result"
    }
   ],
   "source": [
    "articles_metadata[articles_metadata.duplicated(subset=['article_id'])]"
   ]
  },
  {
   "cell_type": "markdown",
   "metadata": {},
   "source": [
    "Maintenant regardons si des articles de la même catégorie ont été publiés en même temps avec un même nombre de mots :"
   ]
  },
  {
   "cell_type": "code",
   "execution_count": 34,
   "metadata": {},
   "outputs": [],
   "source": [
    "duplicated_subset = ['category_id', 'created_at_ts', 'words_count']"
   ]
  },
  {
   "cell_type": "code",
   "execution_count": 35,
   "metadata": {},
   "outputs": [
    {
     "data": {
      "text/html": [
       "<div>\n",
       "<style scoped>\n",
       "    .dataframe tbody tr th:only-of-type {\n",
       "        vertical-align: middle;\n",
       "    }\n",
       "\n",
       "    .dataframe tbody tr th {\n",
       "        vertical-align: top;\n",
       "    }\n",
       "\n",
       "    .dataframe thead th {\n",
       "        text-align: right;\n",
       "    }\n",
       "</style>\n",
       "<table border=\"1\" class=\"dataframe\">\n",
       "  <thead>\n",
       "    <tr style=\"text-align: right;\">\n",
       "      <th></th>\n",
       "      <th>article_id</th>\n",
       "      <th>category_id</th>\n",
       "      <th>created_at_ts</th>\n",
       "      <th>words_count</th>\n",
       "    </tr>\n",
       "  </thead>\n",
       "  <tbody>\n",
       "    <tr>\n",
       "      <th>72668</th>\n",
       "      <td>72668</td>\n",
       "      <td>137</td>\n",
       "      <td>2017-11-05 08:00:02</td>\n",
       "      <td>148</td>\n",
       "    </tr>\n",
       "    <tr>\n",
       "      <th>72670</th>\n",
       "      <td>72670</td>\n",
       "      <td>137</td>\n",
       "      <td>2017-11-05 08:00:02</td>\n",
       "      <td>148</td>\n",
       "    </tr>\n",
       "    <tr>\n",
       "      <th>315523</th>\n",
       "      <td>315523</td>\n",
       "      <td>431</td>\n",
       "      <td>2015-01-29 00:00:01</td>\n",
       "      <td>204</td>\n",
       "    </tr>\n",
       "    <tr>\n",
       "      <th>315524</th>\n",
       "      <td>315524</td>\n",
       "      <td>431</td>\n",
       "      <td>2015-01-29 00:00:01</td>\n",
       "      <td>204</td>\n",
       "    </tr>\n",
       "    <tr>\n",
       "      <th>315618</th>\n",
       "      <td>315618</td>\n",
       "      <td>431</td>\n",
       "      <td>2015-02-04 00:00:01</td>\n",
       "      <td>208</td>\n",
       "    </tr>\n",
       "    <tr>\n",
       "      <th>315619</th>\n",
       "      <td>315619</td>\n",
       "      <td>431</td>\n",
       "      <td>2015-02-04 00:00:01</td>\n",
       "      <td>208</td>\n",
       "    </tr>\n",
       "    <tr>\n",
       "      <th>315854</th>\n",
       "      <td>315854</td>\n",
       "      <td>431</td>\n",
       "      <td>2015-02-14 00:00:02</td>\n",
       "      <td>214</td>\n",
       "    </tr>\n",
       "    <tr>\n",
       "      <th>315856</th>\n",
       "      <td>315856</td>\n",
       "      <td>431</td>\n",
       "      <td>2015-02-14 00:00:02</td>\n",
       "      <td>214</td>\n",
       "    </tr>\n",
       "    <tr>\n",
       "      <th>315859</th>\n",
       "      <td>315859</td>\n",
       "      <td>431</td>\n",
       "      <td>2015-02-17 01:00:02</td>\n",
       "      <td>193</td>\n",
       "    </tr>\n",
       "    <tr>\n",
       "      <th>315860</th>\n",
       "      <td>315860</td>\n",
       "      <td>431</td>\n",
       "      <td>2015-02-17 01:00:02</td>\n",
       "      <td>193</td>\n",
       "    </tr>\n",
       "    <tr>\n",
       "      <th>315917</th>\n",
       "      <td>315917</td>\n",
       "      <td>431</td>\n",
       "      <td>2015-03-10 00:00:03</td>\n",
       "      <td>224</td>\n",
       "    </tr>\n",
       "    <tr>\n",
       "      <th>315918</th>\n",
       "      <td>315918</td>\n",
       "      <td>431</td>\n",
       "      <td>2015-03-10 00:00:03</td>\n",
       "      <td>224</td>\n",
       "    </tr>\n",
       "  </tbody>\n",
       "</table>\n",
       "</div>"
      ],
      "text/plain": [
       "        article_id  category_id       created_at_ts  words_count\n",
       "72668        72668          137 2017-11-05 08:00:02          148\n",
       "72670        72670          137 2017-11-05 08:00:02          148\n",
       "315523      315523          431 2015-01-29 00:00:01          204\n",
       "315524      315524          431 2015-01-29 00:00:01          204\n",
       "315618      315618          431 2015-02-04 00:00:01          208\n",
       "315619      315619          431 2015-02-04 00:00:01          208\n",
       "315854      315854          431 2015-02-14 00:00:02          214\n",
       "315856      315856          431 2015-02-14 00:00:02          214\n",
       "315859      315859          431 2015-02-17 01:00:02          193\n",
       "315860      315860          431 2015-02-17 01:00:02          193\n",
       "315917      315917          431 2015-03-10 00:00:03          224\n",
       "315918      315918          431 2015-03-10 00:00:03          224"
      ]
     },
     "execution_count": 35,
     "metadata": {},
     "output_type": "execute_result"
    }
   ],
   "source": [
    "articles_metadata[articles_metadata.duplicated(subset=duplicated_subset, keep=False)]"
   ]
  },
  {
   "cell_type": "markdown",
   "metadata": {},
   "source": [
    "Les identifiants sont égalements très proches, soit deux nombres consécutifs, soit un nombre entre les deux.  \n",
    "Les articles insérés entre deux duplicats à suivre :"
   ]
  },
  {
   "cell_type": "code",
   "execution_count": 36,
   "metadata": {},
   "outputs": [
    {
     "data": {
      "text/plain": [
       "article_id                     72669\n",
       "category_id                      137\n",
       "created_at_ts    2017-11-19 07:50:02\n",
       "words_count                      160\n",
       "Name: 72669, dtype: object"
      ]
     },
     "execution_count": 36,
     "metadata": {},
     "output_type": "execute_result"
    }
   ],
   "source": [
    "articles_metadata.iloc[72669]"
   ]
  },
  {
   "cell_type": "code",
   "execution_count": 37,
   "metadata": {},
   "outputs": [
    {
     "data": {
      "text/plain": [
       "article_id                    315855\n",
       "category_id                      431\n",
       "created_at_ts    2015-02-14 00:00:02\n",
       "words_count                      227\n",
       "Name: 315855, dtype: object"
      ]
     },
     "execution_count": 37,
     "metadata": {},
     "output_type": "execute_result"
    }
   ],
   "source": [
    "articles_metadata.iloc[315855]"
   ]
  },
  {
   "cell_type": "markdown",
   "metadata": {},
   "source": [
    "Le nombre d'articles dupliqués ne semblent pas très important. On peut les supprimer sans pertes d'informations.  \n",
    "On conservera le second duplicat dans l'hypothèse que l'article a été publié deux fois et qu'une modification légère a pu être appliquée."
   ]
  },
  {
   "cell_type": "code",
   "execution_count": 38,
   "metadata": {},
   "outputs": [
    {
     "data": {
      "text/html": [
       "<div>\n",
       "<style scoped>\n",
       "    .dataframe tbody tr th:only-of-type {\n",
       "        vertical-align: middle;\n",
       "    }\n",
       "\n",
       "    .dataframe tbody tr th {\n",
       "        vertical-align: top;\n",
       "    }\n",
       "\n",
       "    .dataframe thead th {\n",
       "        text-align: right;\n",
       "    }\n",
       "</style>\n",
       "<table border=\"1\" class=\"dataframe\">\n",
       "  <thead>\n",
       "    <tr style=\"text-align: right;\">\n",
       "      <th></th>\n",
       "      <th>article_id</th>\n",
       "      <th>category_id</th>\n",
       "      <th>created_at_ts</th>\n",
       "      <th>words_count</th>\n",
       "    </tr>\n",
       "  </thead>\n",
       "  <tbody>\n",
       "    <tr>\n",
       "      <th>72668</th>\n",
       "      <td>72668</td>\n",
       "      <td>137</td>\n",
       "      <td>2017-11-05 08:00:02</td>\n",
       "      <td>148</td>\n",
       "    </tr>\n",
       "    <tr>\n",
       "      <th>315523</th>\n",
       "      <td>315523</td>\n",
       "      <td>431</td>\n",
       "      <td>2015-01-29 00:00:01</td>\n",
       "      <td>204</td>\n",
       "    </tr>\n",
       "    <tr>\n",
       "      <th>315618</th>\n",
       "      <td>315618</td>\n",
       "      <td>431</td>\n",
       "      <td>2015-02-04 00:00:01</td>\n",
       "      <td>208</td>\n",
       "    </tr>\n",
       "    <tr>\n",
       "      <th>315854</th>\n",
       "      <td>315854</td>\n",
       "      <td>431</td>\n",
       "      <td>2015-02-14 00:00:02</td>\n",
       "      <td>214</td>\n",
       "    </tr>\n",
       "    <tr>\n",
       "      <th>315859</th>\n",
       "      <td>315859</td>\n",
       "      <td>431</td>\n",
       "      <td>2015-02-17 01:00:02</td>\n",
       "      <td>193</td>\n",
       "    </tr>\n",
       "    <tr>\n",
       "      <th>315917</th>\n",
       "      <td>315917</td>\n",
       "      <td>431</td>\n",
       "      <td>2015-03-10 00:00:03</td>\n",
       "      <td>224</td>\n",
       "    </tr>\n",
       "  </tbody>\n",
       "</table>\n",
       "</div>"
      ],
      "text/plain": [
       "        article_id  category_id       created_at_ts  words_count\n",
       "72668        72668          137 2017-11-05 08:00:02          148\n",
       "315523      315523          431 2015-01-29 00:00:01          204\n",
       "315618      315618          431 2015-02-04 00:00:01          208\n",
       "315854      315854          431 2015-02-14 00:00:02          214\n",
       "315859      315859          431 2015-02-17 01:00:02          193\n",
       "315917      315917          431 2015-03-10 00:00:03          224"
      ]
     },
     "execution_count": 38,
     "metadata": {},
     "output_type": "execute_result"
    }
   ],
   "source": [
    "duplicated_id = articles_metadata[articles_metadata.duplicated(subset=duplicated_subset, keep='last')]\n",
    "duplicated_id"
   ]
  },
  {
   "cell_type": "code",
   "execution_count": 39,
   "metadata": {},
   "outputs": [],
   "source": [
    "# articles_metadata.drop_duplicates(subset=duplicated_subset, keep='last', inplace=True)"
   ]
  },
  {
   "cell_type": "code",
   "execution_count": 40,
   "metadata": {},
   "outputs": [
    {
     "data": {
      "text/html": [
       "<div>\n",
       "<style scoped>\n",
       "    .dataframe tbody tr th:only-of-type {\n",
       "        vertical-align: middle;\n",
       "    }\n",
       "\n",
       "    .dataframe tbody tr th {\n",
       "        vertical-align: top;\n",
       "    }\n",
       "\n",
       "    .dataframe thead th {\n",
       "        text-align: right;\n",
       "    }\n",
       "</style>\n",
       "<table border=\"1\" class=\"dataframe\">\n",
       "  <thead>\n",
       "    <tr style=\"text-align: right;\">\n",
       "      <th></th>\n",
       "      <th>article_id</th>\n",
       "      <th>category_id</th>\n",
       "      <th>created_at_ts</th>\n",
       "      <th>words_count</th>\n",
       "    </tr>\n",
       "  </thead>\n",
       "  <tbody>\n",
       "    <tr>\n",
       "      <th>0</th>\n",
       "      <td>0</td>\n",
       "      <td>0</td>\n",
       "      <td>2017-12-13 05:53:39</td>\n",
       "      <td>168</td>\n",
       "    </tr>\n",
       "    <tr>\n",
       "      <th>1</th>\n",
       "      <td>1</td>\n",
       "      <td>1</td>\n",
       "      <td>2014-07-14 12:45:36</td>\n",
       "      <td>189</td>\n",
       "    </tr>\n",
       "    <tr>\n",
       "      <th>2</th>\n",
       "      <td>2</td>\n",
       "      <td>1</td>\n",
       "      <td>2014-08-22 00:35:06</td>\n",
       "      <td>250</td>\n",
       "    </tr>\n",
       "    <tr>\n",
       "      <th>3</th>\n",
       "      <td>3</td>\n",
       "      <td>1</td>\n",
       "      <td>2014-08-19 17:11:53</td>\n",
       "      <td>230</td>\n",
       "    </tr>\n",
       "    <tr>\n",
       "      <th>4</th>\n",
       "      <td>4</td>\n",
       "      <td>1</td>\n",
       "      <td>2014-08-03 13:06:11</td>\n",
       "      <td>162</td>\n",
       "    </tr>\n",
       "    <tr>\n",
       "      <th>...</th>\n",
       "      <td>...</td>\n",
       "      <td>...</td>\n",
       "      <td>...</td>\n",
       "      <td>...</td>\n",
       "    </tr>\n",
       "    <tr>\n",
       "      <th>364042</th>\n",
       "      <td>364042</td>\n",
       "      <td>460</td>\n",
       "      <td>2015-06-11 14:48:38</td>\n",
       "      <td>144</td>\n",
       "    </tr>\n",
       "    <tr>\n",
       "      <th>364043</th>\n",
       "      <td>364043</td>\n",
       "      <td>460</td>\n",
       "      <td>2015-06-12 22:34:32</td>\n",
       "      <td>463</td>\n",
       "    </tr>\n",
       "    <tr>\n",
       "      <th>364044</th>\n",
       "      <td>364044</td>\n",
       "      <td>460</td>\n",
       "      <td>2016-03-14 16:51:19</td>\n",
       "      <td>177</td>\n",
       "    </tr>\n",
       "    <tr>\n",
       "      <th>364045</th>\n",
       "      <td>364045</td>\n",
       "      <td>460</td>\n",
       "      <td>2018-01-14 21:18:57</td>\n",
       "      <td>126</td>\n",
       "    </tr>\n",
       "    <tr>\n",
       "      <th>364046</th>\n",
       "      <td>364046</td>\n",
       "      <td>460</td>\n",
       "      <td>2017-09-19 08:55:30</td>\n",
       "      <td>479</td>\n",
       "    </tr>\n",
       "  </tbody>\n",
       "</table>\n",
       "<p>364047 rows × 4 columns</p>\n",
       "</div>"
      ],
      "text/plain": [
       "        article_id  category_id       created_at_ts  words_count\n",
       "0                0            0 2017-12-13 05:53:39          168\n",
       "1                1            1 2014-07-14 12:45:36          189\n",
       "2                2            1 2014-08-22 00:35:06          250\n",
       "3                3            1 2014-08-19 17:11:53          230\n",
       "4                4            1 2014-08-03 13:06:11          162\n",
       "...            ...          ...                 ...          ...\n",
       "364042      364042          460 2015-06-11 14:48:38          144\n",
       "364043      364043          460 2015-06-12 22:34:32          463\n",
       "364044      364044          460 2016-03-14 16:51:19          177\n",
       "364045      364045          460 2018-01-14 21:18:57          126\n",
       "364046      364046          460 2017-09-19 08:55:30          479\n",
       "\n",
       "[364047 rows x 4 columns]"
      ]
     },
     "execution_count": 40,
     "metadata": {},
     "output_type": "execute_result"
    }
   ],
   "source": [
    "articles_metadata"
   ]
  },
  {
   "cell_type": "code",
   "execution_count": 41,
   "metadata": {},
   "outputs": [
    {
     "data": {
      "text/plain": [
       "<Axes: title={'center': 'Distribution of categories counts'}>"
      ]
     },
     "execution_count": 41,
     "metadata": {},
     "output_type": "execute_result"
    },
    {
     "data": {
      "image/png": "[encoded data removed]",
      "text/plain": [
       "<Figure size 640x480 with 1 Axes>"
      ]
     },
     "metadata": {},
     "output_type": "display_data"
    }
   ],
   "source": [
    "articles_metadata[\"category_id\"].value_counts().plot(\n",
    "    kind=\"box\",\n",
    "    x=\"category_id\",\n",
    "    title=\"Distribution of categories counts\",\n",
    ")"
   ]
  },
  {
   "cell_type": "code",
   "execution_count": 42,
   "metadata": {},
   "outputs": [
    {
     "data": {
      "text/plain": [
       "<Axes: title={'center': 'Distribution of categories'}, xlabel='category_id'>"
      ]
     },
     "execution_count": 42,
     "metadata": {},
     "output_type": "execute_result"
    },
    {
     "data": {
      "image/png": "[encoded data removed]",
      "text/plain": [
       "<Figure size 640x480 with 1 Axes>"
      ]
     },
     "metadata": {},
     "output_type": "display_data"
    }
   ],
   "source": [
    "articles_metadata[\"category_id\"].value_counts().plot(\n",
    "    kind=\"bar\",\n",
    "    title=\"Distribution of categories\",\n",
    ")"
   ]
  },
  {
   "cell_type": "code",
   "execution_count": 43,
   "metadata": {},
   "outputs": [
    {
     "data": {
      "text/plain": [
       "0           0\n",
       "1           1\n",
       "2           1\n",
       "3           1\n",
       "4           1\n",
       "         ... \n",
       "364042    460\n",
       "364043    460\n",
       "364044    460\n",
       "364045    460\n",
       "364046    460\n",
       "Name: category_id, Length: 364047, dtype: int64"
      ]
     },
     "execution_count": 43,
     "metadata": {},
     "output_type": "execute_result"
    }
   ],
   "source": [
    "articles_metadata[\"category_id\"]"
   ]
  },
  {
   "cell_type": "markdown",
   "metadata": {},
   "source": [
    "## 1.2. Embedding"
   ]
  },
  {
   "cell_type": "markdown",
   "metadata": {},
   "source": [
    "L'embedding doit correspondre aux articles présents dans articles_metadata. On a bien une ligne par article avec en colonne 250 mots."
   ]
  },
  {
   "cell_type": "code",
   "execution_count": 46,
   "metadata": {},
   "outputs": [],
   "source": [
    "NUM_EMBEDDINGS = 250\n",
    "embeddings_df = pd.DataFrame(\n",
    "    pd.read_pickle(Path(DATA_PATH, \"articles_embeddings.pickle\")),\n",
    "    columns=[\"embedding_\" + str(i) for i in range(NUM_EMBEDDINGS)],\n",
    "    index=articles_metadata['article_id']\n",
    ")"
   ]
  },
  {
   "cell_type": "code",
   "execution_count": 47,
   "metadata": {},
   "outputs": [
    {
     "data": {
      "text/html": [
       "<div>\n",
       "<style scoped>\n",
       "    .dataframe tbody tr th:only-of-type {\n",
       "        vertical-align: middle;\n",
       "    }\n",
       "\n",
       "    .dataframe tbody tr th {\n",
       "        vertical-align: top;\n",
       "    }\n",
       "\n",
       "    .dataframe thead th {\n",
       "        text-align: right;\n",
       "    }\n",
       "</style>\n",
       "<table border=\"1\" class=\"dataframe\">\n",
       "  <thead>\n",
       "    <tr style=\"text-align: right;\">\n",
       "      <th></th>\n",
       "      <th>embedding_0</th>\n",
       "      <th>embedding_1</th>\n",
       "      <th>embedding_2</th>\n",
       "      <th>embedding_3</th>\n",
       "      <th>embedding_4</th>\n",
       "      <th>embedding_5</th>\n",
       "      <th>embedding_6</th>\n",
       "      <th>embedding_7</th>\n",
       "      <th>embedding_8</th>\n",
       "      <th>embedding_9</th>\n",
       "      <th>...</th>\n",
       "      <th>embedding_240</th>\n",
       "      <th>embedding_241</th>\n",
       "      <th>embedding_242</th>\n",
       "      <th>embedding_243</th>\n",
       "      <th>embedding_244</th>\n",
       "      <th>embedding_245</th>\n",
       "      <th>embedding_246</th>\n",
       "      <th>embedding_247</th>\n",
       "      <th>embedding_248</th>\n",
       "      <th>embedding_249</th>\n",
       "    </tr>\n",
       "    <tr>\n",
       "      <th>article_id</th>\n",
       "      <th></th>\n",
       "      <th></th>\n",
       "      <th></th>\n",
       "      <th></th>\n",
       "      <th></th>\n",
       "      <th></th>\n",
       "      <th></th>\n",
       "      <th></th>\n",
       "      <th></th>\n",
       "      <th></th>\n",
       "      <th></th>\n",
       "      <th></th>\n",
       "      <th></th>\n",
       "      <th></th>\n",
       "      <th></th>\n",
       "      <th></th>\n",
       "      <th></th>\n",
       "      <th></th>\n",
       "      <th></th>\n",
       "      <th></th>\n",
       "      <th></th>\n",
       "    </tr>\n",
       "  </thead>\n",
       "  <tbody>\n",
       "    <tr>\n",
       "      <th>0</th>\n",
       "      <td>-0.161183</td>\n",
       "      <td>-0.957233</td>\n",
       "      <td>-0.137944</td>\n",
       "      <td>0.050855</td>\n",
       "      <td>0.830055</td>\n",
       "      <td>0.901365</td>\n",
       "      <td>-0.335148</td>\n",
       "      <td>-0.559561</td>\n",
       "      <td>-0.500603</td>\n",
       "      <td>0.165183</td>\n",
       "      <td>...</td>\n",
       "      <td>0.321248</td>\n",
       "      <td>0.313999</td>\n",
       "      <td>0.636412</td>\n",
       "      <td>0.169179</td>\n",
       "      <td>0.540524</td>\n",
       "      <td>-0.813182</td>\n",
       "      <td>0.286870</td>\n",
       "      <td>-0.231686</td>\n",
       "      <td>0.597416</td>\n",
       "      <td>0.409623</td>\n",
       "    </tr>\n",
       "    <tr>\n",
       "      <th>1</th>\n",
       "      <td>-0.523216</td>\n",
       "      <td>-0.974058</td>\n",
       "      <td>0.738608</td>\n",
       "      <td>0.155234</td>\n",
       "      <td>0.626294</td>\n",
       "      <td>0.485297</td>\n",
       "      <td>-0.715657</td>\n",
       "      <td>-0.897996</td>\n",
       "      <td>-0.359747</td>\n",
       "      <td>0.398246</td>\n",
       "      <td>...</td>\n",
       "      <td>-0.487843</td>\n",
       "      <td>0.823124</td>\n",
       "      <td>0.412688</td>\n",
       "      <td>-0.338654</td>\n",
       "      <td>0.320787</td>\n",
       "      <td>0.588643</td>\n",
       "      <td>-0.594137</td>\n",
       "      <td>0.182828</td>\n",
       "      <td>0.397090</td>\n",
       "      <td>-0.834364</td>\n",
       "    </tr>\n",
       "    <tr>\n",
       "      <th>2</th>\n",
       "      <td>-0.619619</td>\n",
       "      <td>-0.972960</td>\n",
       "      <td>-0.207360</td>\n",
       "      <td>-0.128861</td>\n",
       "      <td>0.044748</td>\n",
       "      <td>-0.387535</td>\n",
       "      <td>-0.730477</td>\n",
       "      <td>-0.066126</td>\n",
       "      <td>-0.754899</td>\n",
       "      <td>-0.242004</td>\n",
       "      <td>...</td>\n",
       "      <td>0.454756</td>\n",
       "      <td>0.473184</td>\n",
       "      <td>0.377866</td>\n",
       "      <td>-0.863887</td>\n",
       "      <td>-0.383365</td>\n",
       "      <td>0.137721</td>\n",
       "      <td>-0.810877</td>\n",
       "      <td>-0.447580</td>\n",
       "      <td>0.805932</td>\n",
       "      <td>-0.285284</td>\n",
       "    </tr>\n",
       "    <tr>\n",
       "      <th>3</th>\n",
       "      <td>-0.740843</td>\n",
       "      <td>-0.975749</td>\n",
       "      <td>0.391698</td>\n",
       "      <td>0.641738</td>\n",
       "      <td>-0.268645</td>\n",
       "      <td>0.191745</td>\n",
       "      <td>-0.825593</td>\n",
       "      <td>-0.710591</td>\n",
       "      <td>-0.040099</td>\n",
       "      <td>-0.110514</td>\n",
       "      <td>...</td>\n",
       "      <td>0.271535</td>\n",
       "      <td>0.036040</td>\n",
       "      <td>0.480029</td>\n",
       "      <td>-0.763173</td>\n",
       "      <td>0.022627</td>\n",
       "      <td>0.565165</td>\n",
       "      <td>-0.910286</td>\n",
       "      <td>-0.537838</td>\n",
       "      <td>0.243541</td>\n",
       "      <td>-0.885329</td>\n",
       "    </tr>\n",
       "    <tr>\n",
       "      <th>4</th>\n",
       "      <td>-0.279052</td>\n",
       "      <td>-0.972315</td>\n",
       "      <td>0.685374</td>\n",
       "      <td>0.113056</td>\n",
       "      <td>0.238315</td>\n",
       "      <td>0.271913</td>\n",
       "      <td>-0.568816</td>\n",
       "      <td>0.341194</td>\n",
       "      <td>-0.600554</td>\n",
       "      <td>-0.125644</td>\n",
       "      <td>...</td>\n",
       "      <td>0.238286</td>\n",
       "      <td>0.809268</td>\n",
       "      <td>0.427521</td>\n",
       "      <td>-0.615932</td>\n",
       "      <td>-0.503697</td>\n",
       "      <td>0.614450</td>\n",
       "      <td>-0.917760</td>\n",
       "      <td>-0.424061</td>\n",
       "      <td>0.185484</td>\n",
       "      <td>-0.580292</td>\n",
       "    </tr>\n",
       "    <tr>\n",
       "      <th>...</th>\n",
       "      <td>...</td>\n",
       "      <td>...</td>\n",
       "      <td>...</td>\n",
       "      <td>...</td>\n",
       "      <td>...</td>\n",
       "      <td>...</td>\n",
       "      <td>...</td>\n",
       "      <td>...</td>\n",
       "      <td>...</td>\n",
       "      <td>...</td>\n",
       "      <td>...</td>\n",
       "      <td>...</td>\n",
       "      <td>...</td>\n",
       "      <td>...</td>\n",
       "      <td>...</td>\n",
       "      <td>...</td>\n",
       "      <td>...</td>\n",
       "      <td>...</td>\n",
       "      <td>...</td>\n",
       "      <td>...</td>\n",
       "      <td>...</td>\n",
       "    </tr>\n",
       "    <tr>\n",
       "      <th>364042</th>\n",
       "      <td>-0.055038</td>\n",
       "      <td>-0.962136</td>\n",
       "      <td>0.869436</td>\n",
       "      <td>-0.071523</td>\n",
       "      <td>-0.725294</td>\n",
       "      <td>0.434320</td>\n",
       "      <td>0.198312</td>\n",
       "      <td>-0.581154</td>\n",
       "      <td>0.702346</td>\n",
       "      <td>-0.124813</td>\n",
       "      <td>...</td>\n",
       "      <td>-0.410549</td>\n",
       "      <td>0.564252</td>\n",
       "      <td>-0.463959</td>\n",
       "      <td>0.167907</td>\n",
       "      <td>-0.480068</td>\n",
       "      <td>0.652090</td>\n",
       "      <td>0.380880</td>\n",
       "      <td>0.433195</td>\n",
       "      <td>-0.662455</td>\n",
       "      <td>-0.222850</td>\n",
       "    </tr>\n",
       "    <tr>\n",
       "      <th>364043</th>\n",
       "      <td>-0.136932</td>\n",
       "      <td>-0.995471</td>\n",
       "      <td>0.991298</td>\n",
       "      <td>0.031871</td>\n",
       "      <td>-0.915622</td>\n",
       "      <td>-0.658517</td>\n",
       "      <td>0.633090</td>\n",
       "      <td>-0.564356</td>\n",
       "      <td>0.676551</td>\n",
       "      <td>-0.446068</td>\n",
       "      <td>...</td>\n",
       "      <td>-0.681986</td>\n",
       "      <td>-0.574185</td>\n",
       "      <td>-0.536908</td>\n",
       "      <td>0.688934</td>\n",
       "      <td>0.528204</td>\n",
       "      <td>0.162435</td>\n",
       "      <td>0.940364</td>\n",
       "      <td>0.989298</td>\n",
       "      <td>-0.761595</td>\n",
       "      <td>-0.414652</td>\n",
       "    </tr>\n",
       "    <tr>\n",
       "      <th>364044</th>\n",
       "      <td>-0.251390</td>\n",
       "      <td>-0.976243</td>\n",
       "      <td>0.586097</td>\n",
       "      <td>0.643631</td>\n",
       "      <td>-0.663359</td>\n",
       "      <td>-0.093480</td>\n",
       "      <td>0.691553</td>\n",
       "      <td>-0.588281</td>\n",
       "      <td>0.902999</td>\n",
       "      <td>0.124571</td>\n",
       "      <td>...</td>\n",
       "      <td>-0.162220</td>\n",
       "      <td>-0.242030</td>\n",
       "      <td>-0.476131</td>\n",
       "      <td>0.352132</td>\n",
       "      <td>-0.311279</td>\n",
       "      <td>0.460574</td>\n",
       "      <td>-0.653077</td>\n",
       "      <td>-0.143725</td>\n",
       "      <td>0.068093</td>\n",
       "      <td>-0.705010</td>\n",
       "    </tr>\n",
       "    <tr>\n",
       "      <th>364045</th>\n",
       "      <td>0.224342</td>\n",
       "      <td>-0.923288</td>\n",
       "      <td>-0.381742</td>\n",
       "      <td>0.687890</td>\n",
       "      <td>-0.773911</td>\n",
       "      <td>-0.103629</td>\n",
       "      <td>-0.406486</td>\n",
       "      <td>0.246004</td>\n",
       "      <td>0.255191</td>\n",
       "      <td>-0.329587</td>\n",
       "      <td>...</td>\n",
       "      <td>-0.422999</td>\n",
       "      <td>0.390324</td>\n",
       "      <td>0.655911</td>\n",
       "      <td>-0.646753</td>\n",
       "      <td>-0.174031</td>\n",
       "      <td>0.698037</td>\n",
       "      <td>-0.317102</td>\n",
       "      <td>0.687132</td>\n",
       "      <td>-0.531512</td>\n",
       "      <td>0.010726</td>\n",
       "    </tr>\n",
       "    <tr>\n",
       "      <th>364046</th>\n",
       "      <td>-0.257134</td>\n",
       "      <td>-0.994631</td>\n",
       "      <td>0.983792</td>\n",
       "      <td>-0.190975</td>\n",
       "      <td>-0.953720</td>\n",
       "      <td>-0.893823</td>\n",
       "      <td>0.708974</td>\n",
       "      <td>-0.557027</td>\n",
       "      <td>0.846842</td>\n",
       "      <td>-0.118519</td>\n",
       "      <td>...</td>\n",
       "      <td>-0.490481</td>\n",
       "      <td>-0.689666</td>\n",
       "      <td>-0.661846</td>\n",
       "      <td>0.490945</td>\n",
       "      <td>0.736525</td>\n",
       "      <td>0.667668</td>\n",
       "      <td>0.902130</td>\n",
       "      <td>0.983873</td>\n",
       "      <td>-0.838183</td>\n",
       "      <td>-0.179283</td>\n",
       "    </tr>\n",
       "  </tbody>\n",
       "</table>\n",
       "<p>364047 rows × 250 columns</p>\n",
       "</div>"
      ],
      "text/plain": [
       "            embedding_0  embedding_1  embedding_2  embedding_3  embedding_4  \\\n",
       "article_id                                                                    \n",
       "0             -0.161183    -0.957233    -0.137944     0.050855     0.830055   \n",
       "1             -0.523216    -0.974058     0.738608     0.155234     0.626294   \n",
       "2             -0.619619    -0.972960    -0.207360    -0.128861     0.044748   \n",
       "3             -0.740843    -0.975749     0.391698     0.641738    -0.268645   \n",
       "4             -0.279052    -0.972315     0.685374     0.113056     0.238315   \n",
       "...                 ...          ...          ...          ...          ...   \n",
       "364042        -0.055038    -0.962136     0.869436    -0.071523    -0.725294   \n",
       "364043        -0.136932    -0.995471     0.991298     0.031871    -0.915622   \n",
       "364044        -0.251390    -0.976243     0.586097     0.643631    -0.663359   \n",
       "364045         0.224342    -0.923288    -0.381742     0.687890    -0.773911   \n",
       "364046        -0.257134    -0.994631     0.983792    -0.190975    -0.953720   \n",
       "\n",
       "            embedding_5  embedding_6  embedding_7  embedding_8  embedding_9  \\\n",
       "article_id                                                                    \n",
       "0              0.901365    -0.335148    -0.559561    -0.500603     0.165183   \n",
       "1              0.485297    -0.715657    -0.897996    -0.359747     0.398246   \n",
       "2             -0.387535    -0.730477    -0.066126    -0.754899    -0.242004   \n",
       "3              0.191745    -0.825593    -0.710591    -0.040099    -0.110514   \n",
       "4              0.271913    -0.568816     0.341194    -0.600554    -0.125644   \n",
       "...                 ...          ...          ...          ...          ...   \n",
       "364042         0.434320     0.198312    -0.581154     0.702346    -0.124813   \n",
       "364043        -0.658517     0.633090    -0.564356     0.676551    -0.446068   \n",
       "364044        -0.093480     0.691553    -0.588281     0.902999     0.124571   \n",
       "364045        -0.103629    -0.406486     0.246004     0.255191    -0.329587   \n",
       "364046        -0.893823     0.708974    -0.557027     0.846842    -0.118519   \n",
       "\n",
       "            ...  embedding_240  embedding_241  embedding_242  embedding_243  \\\n",
       "article_id  ...                                                               \n",
       "0           ...       0.321248       0.313999       0.636412       0.169179   \n",
       "1           ...      -0.487843       0.823124       0.412688      -0.338654   \n",
       "2           ...       0.454756       0.473184       0.377866      -0.863887   \n",
       "3           ...       0.271535       0.036040       0.480029      -0.763173   \n",
       "4           ...       0.238286       0.809268       0.427521      -0.615932   \n",
       "...         ...            ...            ...            ...            ...   \n",
       "364042      ...      -0.410549       0.564252      -0.463959       0.167907   \n",
       "364043      ...      -0.681986      -0.574185      -0.536908       0.688934   \n",
       "364044      ...      -0.162220      -0.242030      -0.476131       0.352132   \n",
       "364045      ...      -0.422999       0.390324       0.655911      -0.646753   \n",
       "364046      ...      -0.490481      -0.689666      -0.661846       0.490945   \n",
       "\n",
       "            embedding_244  embedding_245  embedding_246  embedding_247  \\\n",
       "article_id                                                               \n",
       "0                0.540524      -0.813182       0.286870      -0.231686   \n",
       "1                0.320787       0.588643      -0.594137       0.182828   \n",
       "2               -0.383365       0.137721      -0.810877      -0.447580   \n",
       "3                0.022627       0.565165      -0.910286      -0.537838   \n",
       "4               -0.503697       0.614450      -0.917760      -0.424061   \n",
       "...                   ...            ...            ...            ...   \n",
       "364042          -0.480068       0.652090       0.380880       0.433195   \n",
       "364043           0.528204       0.162435       0.940364       0.989298   \n",
       "364044          -0.311279       0.460574      -0.653077      -0.143725   \n",
       "364045          -0.174031       0.698037      -0.317102       0.687132   \n",
       "364046           0.736525       0.667668       0.902130       0.983873   \n",
       "\n",
       "            embedding_248  embedding_249  \n",
       "article_id                                \n",
       "0                0.597416       0.409623  \n",
       "1                0.397090      -0.834364  \n",
       "2                0.805932      -0.285284  \n",
       "3                0.243541      -0.885329  \n",
       "4                0.185484      -0.580292  \n",
       "...                   ...            ...  \n",
       "364042          -0.662455      -0.222850  \n",
       "364043          -0.761595      -0.414652  \n",
       "364044           0.068093      -0.705010  \n",
       "364045          -0.531512       0.010726  \n",
       "364046          -0.838183      -0.179283  \n",
       "\n",
       "[364047 rows x 250 columns]"
      ]
     },
     "execution_count": 47,
     "metadata": {},
     "output_type": "execute_result"
    }
   ],
   "source": [
    "embeddings_df"
   ]
  },
  {
   "cell_type": "code",
   "execution_count": 50,
   "metadata": {},
   "outputs": [
    {
     "name": "stderr",
     "output_type": "stream",
     "text": [
      "C:\\Users\\Raphael\\anaconda3\\envs\\RecSys\\Lib\\site-packages\\sklearn\\utils\\validation.py:767: FutureWarning: is_sparse is deprecated and will be removed in a future version. Check `isinstance(dtype, pd.SparseDtype)` instead.\n",
      "  if not hasattr(array, \"sparse\") and array.dtypes.apply(is_sparse).any():\n",
      "C:\\Users\\Raphael\\anaconda3\\envs\\RecSys\\Lib\\site-packages\\sklearn\\utils\\validation.py:605: FutureWarning: is_sparse is deprecated and will be removed in a future version. Check `isinstance(dtype, pd.SparseDtype)` instead.\n",
      "  if is_sparse(pd_dtype):\n",
      "C:\\Users\\Raphael\\anaconda3\\envs\\RecSys\\Lib\\site-packages\\sklearn\\utils\\validation.py:614: FutureWarning: is_sparse is deprecated and will be removed in a future version. Check `isinstance(dtype, pd.SparseDtype)` instead.\n",
      "  if is_sparse(pd_dtype) or not is_extension_array_dtype(pd_dtype):\n"
     ]
    },
    {
     "data": {
      "image/png": "[encoded data removed]",
      "text/plain": [
       "<Figure size 640x480 with 1 Axes>"
      ]
     },
     "metadata": {},
     "output_type": "display_data"
    }
   ],
   "source": [
    "pca = PCA(n_components=2)\n",
    "embeddings_2d = pca.fit_transform(embeddings_df)\n",
    "\n",
    "plt.scatter(embeddings_2d[:,0], embeddings_2d[:,1])\n",
    "plt.show()"
   ]
  },
  {
   "cell_type": "markdown",
   "metadata": {},
   "source": [
    "## 1.3. Dossier \"clicks\""
   ]
  },
  {
   "cell_type": "code",
   "execution_count": 51,
   "metadata": {},
   "outputs": [],
   "source": [
    "CLICK_FILES_PATH = DATA_PATH + \"clicks/clicks/\"\n",
    "\n",
    "#Get all .csv contain in clicks folder\n",
    "click_files = [CLICK_FILES_PATH + x for x in os.listdir(CLICK_FILES_PATH)];\n",
    "\n",
    "#Sort all files PATH contain in list.\n",
    "click_files.sort()"
   ]
  },
  {
   "cell_type": "code",
   "execution_count": 52,
   "metadata": {},
   "outputs": [
    {
     "name": "stdout",
     "output_type": "stream",
     "text": [
      "Nombre de fichier :  385\n"
     ]
    }
   ],
   "source": [
    "print(\"Nombre de fichier : \", len(click_files))"
   ]
  },
  {
   "cell_type": "markdown",
   "metadata": {},
   "source": [
    "### 1.3.1. Un fichier"
   ]
  },
  {
   "cell_type": "code",
   "execution_count": 53,
   "metadata": {},
   "outputs": [],
   "source": [
    "clicks_hour_000 = pd.read_csv(CLICK_FILES_PATH + 'clicks_hour_000.csv')  "
   ]
  },
  {
   "cell_type": "code",
   "execution_count": 54,
   "metadata": {},
   "outputs": [
    {
     "data": {
      "text/plain": [
       "user_id                int64\n",
       "session_id             int64\n",
       "session_start          int64\n",
       "session_size           int64\n",
       "click_article_id       int64\n",
       "click_timestamp        int64\n",
       "click_environment      int64\n",
       "click_deviceGroup      int64\n",
       "click_os               int64\n",
       "click_country          int64\n",
       "click_region           int64\n",
       "click_referrer_type    int64\n",
       "dtype: object"
      ]
     },
     "execution_count": 54,
     "metadata": {},
     "output_type": "execute_result"
    }
   ],
   "source": [
    "clicks_hour_000.dtypes"
   ]
  },
  {
   "cell_type": "code",
   "execution_count": 55,
   "metadata": {},
   "outputs": [
    {
     "data": {
      "text/html": [
       "<div>\n",
       "<style scoped>\n",
       "    .dataframe tbody tr th:only-of-type {\n",
       "        vertical-align: middle;\n",
       "    }\n",
       "\n",
       "    .dataframe tbody tr th {\n",
       "        vertical-align: top;\n",
       "    }\n",
       "\n",
       "    .dataframe thead th {\n",
       "        text-align: right;\n",
       "    }\n",
       "</style>\n",
       "<table border=\"1\" class=\"dataframe\">\n",
       "  <thead>\n",
       "    <tr style=\"text-align: right;\">\n",
       "      <th></th>\n",
       "      <th>user_id</th>\n",
       "      <th>session_id</th>\n",
       "      <th>session_start</th>\n",
       "      <th>session_size</th>\n",
       "      <th>click_article_id</th>\n",
       "      <th>click_timestamp</th>\n",
       "      <th>click_environment</th>\n",
       "      <th>click_deviceGroup</th>\n",
       "      <th>click_os</th>\n",
       "      <th>click_country</th>\n",
       "      <th>click_region</th>\n",
       "      <th>click_referrer_type</th>\n",
       "    </tr>\n",
       "  </thead>\n",
       "  <tbody>\n",
       "    <tr>\n",
       "      <th>0</th>\n",
       "      <td>0</td>\n",
       "      <td>1506825423271737</td>\n",
       "      <td>1506825423000</td>\n",
       "      <td>2</td>\n",
       "      <td>157541</td>\n",
       "      <td>1506826828020</td>\n",
       "      <td>4</td>\n",
       "      <td>3</td>\n",
       "      <td>20</td>\n",
       "      <td>1</td>\n",
       "      <td>20</td>\n",
       "      <td>2</td>\n",
       "    </tr>\n",
       "    <tr>\n",
       "      <th>1</th>\n",
       "      <td>0</td>\n",
       "      <td>1506825423271737</td>\n",
       "      <td>1506825423000</td>\n",
       "      <td>2</td>\n",
       "      <td>68866</td>\n",
       "      <td>1506826858020</td>\n",
       "      <td>4</td>\n",
       "      <td>3</td>\n",
       "      <td>20</td>\n",
       "      <td>1</td>\n",
       "      <td>20</td>\n",
       "      <td>2</td>\n",
       "    </tr>\n",
       "    <tr>\n",
       "      <th>2</th>\n",
       "      <td>1</td>\n",
       "      <td>1506825426267738</td>\n",
       "      <td>1506825426000</td>\n",
       "      <td>2</td>\n",
       "      <td>235840</td>\n",
       "      <td>1506827017951</td>\n",
       "      <td>4</td>\n",
       "      <td>1</td>\n",
       "      <td>17</td>\n",
       "      <td>1</td>\n",
       "      <td>16</td>\n",
       "      <td>2</td>\n",
       "    </tr>\n",
       "    <tr>\n",
       "      <th>3</th>\n",
       "      <td>1</td>\n",
       "      <td>1506825426267738</td>\n",
       "      <td>1506825426000</td>\n",
       "      <td>2</td>\n",
       "      <td>96663</td>\n",
       "      <td>1506827047951</td>\n",
       "      <td>4</td>\n",
       "      <td>1</td>\n",
       "      <td>17</td>\n",
       "      <td>1</td>\n",
       "      <td>16</td>\n",
       "      <td>2</td>\n",
       "    </tr>\n",
       "    <tr>\n",
       "      <th>4</th>\n",
       "      <td>2</td>\n",
       "      <td>1506825435299739</td>\n",
       "      <td>1506825435000</td>\n",
       "      <td>2</td>\n",
       "      <td>119592</td>\n",
       "      <td>1506827090575</td>\n",
       "      <td>4</td>\n",
       "      <td>1</td>\n",
       "      <td>17</td>\n",
       "      <td>1</td>\n",
       "      <td>24</td>\n",
       "      <td>2</td>\n",
       "    </tr>\n",
       "  </tbody>\n",
       "</table>\n",
       "</div>"
      ],
      "text/plain": [
       "   user_id        session_id  session_start  session_size  click_article_id  \\\n",
       "0        0  1506825423271737  1506825423000             2            157541   \n",
       "1        0  1506825423271737  1506825423000             2             68866   \n",
       "2        1  1506825426267738  1506825426000             2            235840   \n",
       "3        1  1506825426267738  1506825426000             2             96663   \n",
       "4        2  1506825435299739  1506825435000             2            119592   \n",
       "\n",
       "   click_timestamp  click_environment  click_deviceGroup  click_os  \\\n",
       "0    1506826828020                  4                  3        20   \n",
       "1    1506826858020                  4                  3        20   \n",
       "2    1506827017951                  4                  1        17   \n",
       "3    1506827047951                  4                  1        17   \n",
       "4    1506827090575                  4                  1        17   \n",
       "\n",
       "   click_country  click_region  click_referrer_type  \n",
       "0              1            20                    2  \n",
       "1              1            20                    2  \n",
       "2              1            16                    2  \n",
       "3              1            16                    2  \n",
       "4              1            24                    2  "
      ]
     },
     "execution_count": 55,
     "metadata": {},
     "output_type": "execute_result"
    }
   ],
   "source": [
    "clicks_hour_000.head()"
   ]
  },
  {
   "cell_type": "code",
   "execution_count": 56,
   "metadata": {},
   "outputs": [
    {
     "data": {
      "text/html": [
       "<div>\n",
       "<style scoped>\n",
       "    .dataframe tbody tr th:only-of-type {\n",
       "        vertical-align: middle;\n",
       "    }\n",
       "\n",
       "    .dataframe tbody tr th {\n",
       "        vertical-align: top;\n",
       "    }\n",
       "\n",
       "    .dataframe thead th {\n",
       "        text-align: right;\n",
       "    }\n",
       "</style>\n",
       "<table border=\"1\" class=\"dataframe\">\n",
       "  <thead>\n",
       "    <tr style=\"text-align: right;\">\n",
       "      <th></th>\n",
       "      <th>user_id</th>\n",
       "      <th>session_id</th>\n",
       "      <th>session_start</th>\n",
       "      <th>session_size</th>\n",
       "      <th>click_article_id</th>\n",
       "      <th>click_timestamp</th>\n",
       "      <th>click_environment</th>\n",
       "      <th>click_deviceGroup</th>\n",
       "      <th>click_os</th>\n",
       "      <th>click_country</th>\n",
       "      <th>click_region</th>\n",
       "      <th>click_referrer_type</th>\n",
       "    </tr>\n",
       "  </thead>\n",
       "  <tbody>\n",
       "    <tr>\n",
       "      <th>1878</th>\n",
       "      <td>705</td>\n",
       "      <td>1506828968165442</td>\n",
       "      <td>1506828968000</td>\n",
       "      <td>2</td>\n",
       "      <td>119592</td>\n",
       "      <td>1506830912301</td>\n",
       "      <td>4</td>\n",
       "      <td>1</td>\n",
       "      <td>17</td>\n",
       "      <td>1</td>\n",
       "      <td>21</td>\n",
       "      <td>2</td>\n",
       "    </tr>\n",
       "    <tr>\n",
       "      <th>1879</th>\n",
       "      <td>705</td>\n",
       "      <td>1506828968165442</td>\n",
       "      <td>1506828968000</td>\n",
       "      <td>2</td>\n",
       "      <td>284847</td>\n",
       "      <td>1506830942301</td>\n",
       "      <td>4</td>\n",
       "      <td>1</td>\n",
       "      <td>17</td>\n",
       "      <td>1</td>\n",
       "      <td>21</td>\n",
       "      <td>2</td>\n",
       "    </tr>\n",
       "    <tr>\n",
       "      <th>1880</th>\n",
       "      <td>706</td>\n",
       "      <td>1506828979881443</td>\n",
       "      <td>1506828979000</td>\n",
       "      <td>3</td>\n",
       "      <td>108854</td>\n",
       "      <td>1506829027334</td>\n",
       "      <td>4</td>\n",
       "      <td>3</td>\n",
       "      <td>2</td>\n",
       "      <td>1</td>\n",
       "      <td>25</td>\n",
       "      <td>1</td>\n",
       "    </tr>\n",
       "    <tr>\n",
       "      <th>1881</th>\n",
       "      <td>706</td>\n",
       "      <td>1506828979881443</td>\n",
       "      <td>1506828979000</td>\n",
       "      <td>3</td>\n",
       "      <td>96663</td>\n",
       "      <td>1506829095732</td>\n",
       "      <td>4</td>\n",
       "      <td>3</td>\n",
       "      <td>2</td>\n",
       "      <td>1</td>\n",
       "      <td>25</td>\n",
       "      <td>1</td>\n",
       "    </tr>\n",
       "    <tr>\n",
       "      <th>1882</th>\n",
       "      <td>706</td>\n",
       "      <td>1506828979881443</td>\n",
       "      <td>1506828979000</td>\n",
       "      <td>3</td>\n",
       "      <td>68866</td>\n",
       "      <td>1506829125732</td>\n",
       "      <td>4</td>\n",
       "      <td>3</td>\n",
       "      <td>2</td>\n",
       "      <td>1</td>\n",
       "      <td>25</td>\n",
       "      <td>1</td>\n",
       "    </tr>\n",
       "  </tbody>\n",
       "</table>\n",
       "</div>"
      ],
      "text/plain": [
       "      user_id        session_id  session_start  session_size  \\\n",
       "1878      705  1506828968165442  1506828968000             2   \n",
       "1879      705  1506828968165442  1506828968000             2   \n",
       "1880      706  1506828979881443  1506828979000             3   \n",
       "1881      706  1506828979881443  1506828979000             3   \n",
       "1882      706  1506828979881443  1506828979000             3   \n",
       "\n",
       "      click_article_id  click_timestamp  click_environment  click_deviceGroup  \\\n",
       "1878            119592    1506830912301                  4                  1   \n",
       "1879            284847    1506830942301                  4                  1   \n",
       "1880            108854    1506829027334                  4                  3   \n",
       "1881             96663    1506829095732                  4                  3   \n",
       "1882             68866    1506829125732                  4                  3   \n",
       "\n",
       "      click_os  click_country  click_region  click_referrer_type  \n",
       "1878        17              1            21                    2  \n",
       "1879        17              1            21                    2  \n",
       "1880         2              1            25                    1  \n",
       "1881         2              1            25                    1  \n",
       "1882         2              1            25                    1  "
      ]
     },
     "execution_count": 56,
     "metadata": {},
     "output_type": "execute_result"
    }
   ],
   "source": [
    "clicks_hour_000.tail()"
   ]
  },
  {
   "cell_type": "code",
   "execution_count": 57,
   "metadata": {},
   "outputs": [
    {
     "data": {
      "text/html": [
       "<div>\n",
       "<style scoped>\n",
       "    .dataframe tbody tr th:only-of-type {\n",
       "        vertical-align: middle;\n",
       "    }\n",
       "\n",
       "    .dataframe tbody tr th {\n",
       "        vertical-align: top;\n",
       "    }\n",
       "\n",
       "    .dataframe thead th {\n",
       "        text-align: right;\n",
       "    }\n",
       "</style>\n",
       "<table border=\"1\" class=\"dataframe\">\n",
       "  <thead>\n",
       "    <tr style=\"text-align: right;\">\n",
       "      <th></th>\n",
       "      <th>user_id</th>\n",
       "      <th>session_id</th>\n",
       "      <th>session_start</th>\n",
       "      <th>session_size</th>\n",
       "      <th>click_article_id</th>\n",
       "      <th>click_timestamp</th>\n",
       "      <th>click_environment</th>\n",
       "      <th>click_deviceGroup</th>\n",
       "      <th>click_os</th>\n",
       "      <th>click_country</th>\n",
       "      <th>click_region</th>\n",
       "      <th>click_referrer_type</th>\n",
       "    </tr>\n",
       "  </thead>\n",
       "  <tbody>\n",
       "    <tr>\n",
       "      <th>count</th>\n",
       "      <td>1883.000000</td>\n",
       "      <td>1.883000e+03</td>\n",
       "      <td>1.883000e+03</td>\n",
       "      <td>1883.000000</td>\n",
       "      <td>1883.000000</td>\n",
       "      <td>1.883000e+03</td>\n",
       "      <td>1883.000000</td>\n",
       "      <td>1883.000000</td>\n",
       "      <td>1883.000000</td>\n",
       "      <td>1883.000000</td>\n",
       "      <td>1883.000000</td>\n",
       "      <td>1883.000000</td>\n",
       "    </tr>\n",
       "    <tr>\n",
       "      <th>mean</th>\n",
       "      <td>355.893787</td>\n",
       "      <td>1.506828e+15</td>\n",
       "      <td>1.506828e+12</td>\n",
       "      <td>3.459904</td>\n",
       "      <td>176717.848646</td>\n",
       "      <td>1.506830e+12</td>\n",
       "      <td>3.917153</td>\n",
       "      <td>2.305895</td>\n",
       "      <td>12.113648</td>\n",
       "      <td>1.491768</td>\n",
       "      <td>18.774827</td>\n",
       "      <td>1.764206</td>\n",
       "    </tr>\n",
       "    <tr>\n",
       "      <th>std</th>\n",
       "      <td>206.162865</td>\n",
       "      <td>8.679628e+08</td>\n",
       "      <td>8.679468e+05</td>\n",
       "      <td>3.037467</td>\n",
       "      <td>82324.177259</td>\n",
       "      <td>1.064938e+07</td>\n",
       "      <td>0.410461</td>\n",
       "      <td>1.062301</td>\n",
       "      <td>7.825735</td>\n",
       "      <td>2.007772</td>\n",
       "      <td>7.083400</td>\n",
       "      <td>1.225679</td>\n",
       "    </tr>\n",
       "    <tr>\n",
       "      <th>min</th>\n",
       "      <td>0.000000</td>\n",
       "      <td>1.506825e+15</td>\n",
       "      <td>1.506825e+12</td>\n",
       "      <td>2.000000</td>\n",
       "      <td>2137.000000</td>\n",
       "      <td>1.506827e+12</td>\n",
       "      <td>1.000000</td>\n",
       "      <td>1.000000</td>\n",
       "      <td>2.000000</td>\n",
       "      <td>1.000000</td>\n",
       "      <td>1.000000</td>\n",
       "      <td>1.000000</td>\n",
       "    </tr>\n",
       "    <tr>\n",
       "      <th>25%</th>\n",
       "      <td>181.500000</td>\n",
       "      <td>1.506827e+15</td>\n",
       "      <td>1.506827e+12</td>\n",
       "      <td>2.000000</td>\n",
       "      <td>108854.000000</td>\n",
       "      <td>1.506828e+12</td>\n",
       "      <td>4.000000</td>\n",
       "      <td>1.000000</td>\n",
       "      <td>2.000000</td>\n",
       "      <td>1.000000</td>\n",
       "      <td>13.000000</td>\n",
       "      <td>1.000000</td>\n",
       "    </tr>\n",
       "    <tr>\n",
       "      <th>50%</th>\n",
       "      <td>353.000000</td>\n",
       "      <td>1.506828e+15</td>\n",
       "      <td>1.506828e+12</td>\n",
       "      <td>3.000000</td>\n",
       "      <td>157541.000000</td>\n",
       "      <td>1.506828e+12</td>\n",
       "      <td>4.000000</td>\n",
       "      <td>3.000000</td>\n",
       "      <td>17.000000</td>\n",
       "      <td>1.000000</td>\n",
       "      <td>21.000000</td>\n",
       "      <td>1.000000</td>\n",
       "    </tr>\n",
       "    <tr>\n",
       "      <th>75%</th>\n",
       "      <td>537.000000</td>\n",
       "      <td>1.506828e+15</td>\n",
       "      <td>1.506828e+12</td>\n",
       "      <td>4.000000</td>\n",
       "      <td>236697.500000</td>\n",
       "      <td>1.506829e+12</td>\n",
       "      <td>4.000000</td>\n",
       "      <td>3.000000</td>\n",
       "      <td>19.000000</td>\n",
       "      <td>1.000000</td>\n",
       "      <td>25.000000</td>\n",
       "      <td>2.000000</td>\n",
       "    </tr>\n",
       "    <tr>\n",
       "      <th>max</th>\n",
       "      <td>706.000000</td>\n",
       "      <td>1.506829e+15</td>\n",
       "      <td>1.506829e+12</td>\n",
       "      <td>24.000000</td>\n",
       "      <td>363291.000000</td>\n",
       "      <td>1.506998e+12</td>\n",
       "      <td>4.000000</td>\n",
       "      <td>4.000000</td>\n",
       "      <td>20.000000</td>\n",
       "      <td>11.000000</td>\n",
       "      <td>28.000000</td>\n",
       "      <td>7.000000</td>\n",
       "    </tr>\n",
       "  </tbody>\n",
       "</table>\n",
       "</div>"
      ],
      "text/plain": [
       "           user_id    session_id  session_start  session_size  \\\n",
       "count  1883.000000  1.883000e+03   1.883000e+03   1883.000000   \n",
       "mean    355.893787  1.506828e+15   1.506828e+12      3.459904   \n",
       "std     206.162865  8.679628e+08   8.679468e+05      3.037467   \n",
       "min       0.000000  1.506825e+15   1.506825e+12      2.000000   \n",
       "25%     181.500000  1.506827e+15   1.506827e+12      2.000000   \n",
       "50%     353.000000  1.506828e+15   1.506828e+12      3.000000   \n",
       "75%     537.000000  1.506828e+15   1.506828e+12      4.000000   \n",
       "max     706.000000  1.506829e+15   1.506829e+12     24.000000   \n",
       "\n",
       "       click_article_id  click_timestamp  click_environment  \\\n",
       "count       1883.000000     1.883000e+03        1883.000000   \n",
       "mean      176717.848646     1.506830e+12           3.917153   \n",
       "std        82324.177259     1.064938e+07           0.410461   \n",
       "min         2137.000000     1.506827e+12           1.000000   \n",
       "25%       108854.000000     1.506828e+12           4.000000   \n",
       "50%       157541.000000     1.506828e+12           4.000000   \n",
       "75%       236697.500000     1.506829e+12           4.000000   \n",
       "max       363291.000000     1.506998e+12           4.000000   \n",
       "\n",
       "       click_deviceGroup     click_os  click_country  click_region  \\\n",
       "count        1883.000000  1883.000000    1883.000000   1883.000000   \n",
       "mean            2.305895    12.113648       1.491768     18.774827   \n",
       "std             1.062301     7.825735       2.007772      7.083400   \n",
       "min             1.000000     2.000000       1.000000      1.000000   \n",
       "25%             1.000000     2.000000       1.000000     13.000000   \n",
       "50%             3.000000    17.000000       1.000000     21.000000   \n",
       "75%             3.000000    19.000000       1.000000     25.000000   \n",
       "max             4.000000    20.000000      11.000000     28.000000   \n",
       "\n",
       "       click_referrer_type  \n",
       "count          1883.000000  \n",
       "mean              1.764206  \n",
       "std               1.225679  \n",
       "min               1.000000  \n",
       "25%               1.000000  \n",
       "50%               1.000000  \n",
       "75%               2.000000  \n",
       "max               7.000000  "
      ]
     },
     "execution_count": 57,
     "metadata": {},
     "output_type": "execute_result"
    }
   ],
   "source": [
    "clicks_hour_000.describe()"
   ]
  },
  {
   "cell_type": "markdown",
   "metadata": {},
   "source": [
    "Explication des colonnes :\n",
    "\n",
    "* **click_timestamp** : date du clic \n",
    "* **user_id** : identifiant de l'utilisateur\n",
    "* **session_id** : identifiant de la session utilisateur\n",
    "* **session_start** : date de début de la session\n",
    "* **session_size** : nombre de clic au cours de la session\n",
    "* **click_article_id** : identifiant de l'article cliqué\n",
    "* **click_environment** : Id of the Environment: 1 - Facebook Instant Article, 2 - Mobile App, 3 - AMP (Accelerated Mobile Pages), 4 - Web\n",
    "* **click_deviceGroup** : Id of the Device Type: 1 - Tablet, 2 - TV, 3 - Empty, 4 - Mobile, 5 - Desktop\n",
    "* **click_os** : système d'exploitation de l'appareil (1 à 20) : 1 - Other, 2 - iOS, 3 - Android, 4 - Windows Phone, 5 - Windows Mobile, 6 - Windows, 7 - etc \n",
    "* **click_country** : Le pays de provenance de l'utilisateur\n",
    "* **click_region** : \n",
    "* **click_referrer_type** : "
   ]
  },
  {
   "cell_type": "markdown",
   "metadata": {},
   "source": [
    "# 2. Construction du jeu de données"
   ]
  },
  {
   "cell_type": "markdown",
   "metadata": {},
   "source": [
    "On se limite à 20 fichiers pour l'instant"
   ]
  },
  {
   "cell_type": "code",
   "execution_count": 58,
   "metadata": {},
   "outputs": [],
   "source": [
    "NUM_CLICK_FILES = 20"
   ]
  },
  {
   "cell_type": "code",
   "execution_count": 59,
   "metadata": {},
   "outputs": [
    {
     "data": {
      "text/plain": [
       "['data/raw/clicks/clicks/clicks_hour_000.csv',\n",
       " 'data/raw/clicks/clicks/clicks_hour_001.csv',\n",
       " 'data/raw/clicks/clicks/clicks_hour_002.csv',\n",
       " 'data/raw/clicks/clicks/clicks_hour_003.csv',\n",
       " 'data/raw/clicks/clicks/clicks_hour_004.csv',\n",
       " 'data/raw/clicks/clicks/clicks_hour_005.csv',\n",
       " 'data/raw/clicks/clicks/clicks_hour_006.csv',\n",
       " 'data/raw/clicks/clicks/clicks_hour_007.csv',\n",
       " 'data/raw/clicks/clicks/clicks_hour_008.csv',\n",
       " 'data/raw/clicks/clicks/clicks_hour_009.csv',\n",
       " 'data/raw/clicks/clicks/clicks_hour_010.csv',\n",
       " 'data/raw/clicks/clicks/clicks_hour_011.csv',\n",
       " 'data/raw/clicks/clicks/clicks_hour_012.csv',\n",
       " 'data/raw/clicks/clicks/clicks_hour_013.csv',\n",
       " 'data/raw/clicks/clicks/clicks_hour_014.csv',\n",
       " 'data/raw/clicks/clicks/clicks_hour_015.csv',\n",
       " 'data/raw/clicks/clicks/clicks_hour_016.csv',\n",
       " 'data/raw/clicks/clicks/clicks_hour_017.csv',\n",
       " 'data/raw/clicks/clicks/clicks_hour_018.csv',\n",
       " 'data/raw/clicks/clicks/clicks_hour_019.csv']"
      ]
     },
     "execution_count": 59,
     "metadata": {},
     "output_type": "execute_result"
    }
   ],
   "source": [
    "selected_click_files = click_files[:NUM_CLICK_FILES]\n",
    "selected_click_files"
   ]
  },
  {
   "cell_type": "code",
   "execution_count": 64,
   "metadata": {},
   "outputs": [
    {
     "name": "stderr",
     "output_type": "stream",
     "text": [
      "100%|██████████| 20/20 [00:00<00:00, 197.97it/s]\n"
     ]
    }
   ],
   "source": [
    "clicks = pd.concat(\n",
    "    [\n",
    "        pd.read_csv(click_file_path)\n",
    "        for click_file_path in tqdm(selected_click_files)\n",
    "    ],\n",
    "    sort=False,\n",
    "    ignore_index=True,\n",
    "    verify_integrity=True,\n",
    ")"
   ]
  },
  {
   "cell_type": "code",
   "execution_count": 66,
   "metadata": {},
   "outputs": [],
   "source": [
    "def timestamp_to_datetime(x):\n",
    "    return datetime.fromtimestamp(int(int(x) / 1000))\n",
    "\n",
    "clicks[\"session_start\"] = pd.to_datetime(clicks[\"session_start\"].apply(timestamp_to_datetime))\n",
    "clicks[\"click_timestamp\"] = pd.to_datetime(clicks[\"click_timestamp\"].apply(timestamp_to_datetime))"
   ]
  },
  {
   "cell_type": "code",
   "execution_count": 68,
   "metadata": {},
   "outputs": [
    {
     "data": {
      "text/plain": [
       "user_id                         int64\n",
       "session_id                      int64\n",
       "session_start          datetime64[ns]\n",
       "session_size                    int64\n",
       "click_article_id                int64\n",
       "click_timestamp        datetime64[ns]\n",
       "click_environment               int64\n",
       "click_deviceGroup               int64\n",
       "click_os                        int64\n",
       "click_country                   int64\n",
       "click_region                    int64\n",
       "click_referrer_type             int64\n",
       "dtype: object"
      ]
     },
     "execution_count": 68,
     "metadata": {},
     "output_type": "execute_result"
    }
   ],
   "source": [
    "clicks.dtypes"
   ]
  },
  {
   "cell_type": "code",
   "execution_count": 69,
   "metadata": {},
   "outputs": [
    {
     "data": {
      "text/plain": [
       "user_id                0\n",
       "session_id             0\n",
       "session_start          0\n",
       "session_size           0\n",
       "click_article_id       0\n",
       "click_timestamp        0\n",
       "click_environment      0\n",
       "click_deviceGroup      0\n",
       "click_os               0\n",
       "click_country          0\n",
       "click_region           0\n",
       "click_referrer_type    0\n",
       "dtype: int64"
      ]
     },
     "execution_count": 69,
     "metadata": {},
     "output_type": "execute_result"
    }
   ],
   "source": [
    "clicks.isnull().sum()"
   ]
  },
  {
   "cell_type": "markdown",
   "metadata": {},
   "source": [
    "## 2.1. Type de variables"
   ]
  },
  {
   "cell_type": "code",
   "execution_count": 70,
   "metadata": {},
   "outputs": [
    {
     "data": {
      "text/plain": [
       "user_id                         int64\n",
       "session_id                      int64\n",
       "session_start          datetime64[ns]\n",
       "session_size                    int64\n",
       "click_article_id                int64\n",
       "click_timestamp        datetime64[ns]\n",
       "click_environment               int64\n",
       "click_deviceGroup               int64\n",
       "click_os                        int64\n",
       "click_country                   int64\n",
       "click_region                    int64\n",
       "click_referrer_type             int64\n",
       "dtype: object"
      ]
     },
     "execution_count": 70,
     "metadata": {},
     "output_type": "execute_result"
    }
   ],
   "source": [
    "clicks.dtypes"
   ]
  },
  {
   "cell_type": "code",
   "execution_count": 71,
   "metadata": {},
   "outputs": [
    {
     "data": {
      "text/plain": [
       "article_id                int64\n",
       "category_id               int64\n",
       "created_at_ts    datetime64[ns]\n",
       "words_count               int64\n",
       "dtype: object"
      ]
     },
     "execution_count": 71,
     "metadata": {},
     "output_type": "execute_result"
    }
   ],
   "source": [
    "articles_metadata.dtypes"
   ]
  },
  {
   "cell_type": "code",
   "execution_count": 72,
   "metadata": {},
   "outputs": [
    {
     "data": {
      "text/plain": [
       "(364047, 4)"
      ]
     },
     "execution_count": 72,
     "metadata": {},
     "output_type": "execute_result"
    }
   ],
   "source": [
    "articles_metadata.shape"
   ]
  },
  {
   "cell_type": "markdown",
   "metadata": {},
   "source": [
    "## 2.2. Filtrer les users"
   ]
  },
  {
   "cell_type": "markdown",
   "metadata": {},
   "source": [
    "On filtre les utilisateurs avec trop peu d'interactions"
   ]
  },
  {
   "cell_type": "code",
   "execution_count": 73,
   "metadata": {},
   "outputs": [
    {
     "name": "stdout",
     "output_type": "stream",
     "text": [
      "Le nombre d'utilisateurs est de : 27911\n"
     ]
    }
   ],
   "source": [
    "list_users_id = clicks.user_id.unique()\n",
    "print(\"Le nombre d'utilisateurs est de :\", len(list_users_id))"
   ]
  },
  {
   "cell_type": "code",
   "execution_count": 74,
   "metadata": {},
   "outputs": [
    {
     "data": {
      "text/plain": [
       "user_id\n",
       "5890     68\n",
       "9261     51\n",
       "15275    45\n",
       "681      36\n",
       "852      33\n",
       "         ..\n",
       "594       5\n",
       "2517      5\n",
       "1572      5\n",
       "624       5\n",
       "23295     5\n",
       "Name: count, Length: 3169, dtype: int64"
      ]
     },
     "execution_count": 74,
     "metadata": {},
     "output_type": "execute_result"
    }
   ],
   "source": [
    "clicks.user_id.value_counts()[clicks.user_id.value_counts()>=5]"
   ]
  },
  {
   "cell_type": "code",
   "execution_count": 75,
   "metadata": {},
   "outputs": [],
   "source": [
    "users_with_5_interactions = pd.DataFrame(clicks.user_id.value_counts()[clicks.user_id.value_counts()>=5].index, columns=['user_id'])"
   ]
  },
  {
   "cell_type": "code",
   "execution_count": 76,
   "metadata": {},
   "outputs": [
    {
     "name": "stdout",
     "output_type": "stream",
     "text": [
      "Le nombre d'utilisateurs avec 5 interactions ou plus : 3169\n"
     ]
    }
   ],
   "source": [
    "filtered_users_ids = clicks.user_id.value_counts()[clicks.user_id.value_counts()>=5].index\n",
    "print(\"Le nombre d'utilisateurs avec 5 interactions ou plus :\", len(filtered_users_ids))"
   ]
  },
  {
   "cell_type": "code",
   "execution_count": 77,
   "metadata": {},
   "outputs": [
    {
     "name": "stdout",
     "output_type": "stream",
     "text": [
      "Nombre d'intercations totales: 81245\n"
     ]
    }
   ],
   "source": [
    "print(\"Nombre d'intercations totales:\", len(clicks))"
   ]
  },
  {
   "cell_type": "code",
   "execution_count": 78,
   "metadata": {},
   "outputs": [],
   "source": [
    "filtered_clicks_5 = clicks.merge(users_with_5_interactions, how = 'right', left_on = 'user_id', right_on = 'user_id')"
   ]
  },
  {
   "cell_type": "code",
   "execution_count": 79,
   "metadata": {},
   "outputs": [
    {
     "name": "stdout",
     "output_type": "stream",
     "text": [
      "Nombre d'interactions avec les utilisateurs avec plus de 5 interactions:  21731\n"
     ]
    }
   ],
   "source": [
    "print(\"Nombre d'interactions avec les utilisateurs avec plus de 5 interactions: \", len(filtered_clicks_5))"
   ]
  },
  {
   "cell_type": "code",
   "execution_count": 80,
   "metadata": {},
   "outputs": [],
   "source": [
    "filtered_clicks_5.rename(columns={'click_article_id': 'article_id'}, inplace=True)"
   ]
  },
  {
   "cell_type": "markdown",
   "metadata": {},
   "source": [
    "#### Vérification"
   ]
  },
  {
   "cell_type": "code",
   "execution_count": 81,
   "metadata": {},
   "outputs": [
    {
     "data": {
      "text/plain": [
       "user_id\n",
       "5890     68\n",
       "9261     51\n",
       "15275    45\n",
       "681      36\n",
       "852      33\n",
       "         ..\n",
       "20554     5\n",
       "10249     5\n",
       "20665     5\n",
       "3395      5\n",
       "23295     5\n",
       "Name: count, Length: 3169, dtype: int64"
      ]
     },
     "execution_count": 81,
     "metadata": {},
     "output_type": "execute_result"
    }
   ],
   "source": [
    "filtered_clicks_5.user_id.value_counts()"
   ]
  },
  {
   "cell_type": "markdown",
   "metadata": {},
   "source": [
    "## 2.3. Fichier interactions"
   ]
  },
  {
   "cell_type": "code",
   "execution_count": 82,
   "metadata": {},
   "outputs": [],
   "source": [
    "filtered_clicks_5['click'] = 1"
   ]
  },
  {
   "cell_type": "code",
   "execution_count": 83,
   "metadata": {},
   "outputs": [
    {
     "data": {
      "text/html": [
       "<div>\n",
       "<style scoped>\n",
       "    .dataframe tbody tr th:only-of-type {\n",
       "        vertical-align: middle;\n",
       "    }\n",
       "\n",
       "    .dataframe tbody tr th {\n",
       "        vertical-align: top;\n",
       "    }\n",
       "\n",
       "    .dataframe thead th {\n",
       "        text-align: right;\n",
       "    }\n",
       "</style>\n",
       "<table border=\"1\" class=\"dataframe\">\n",
       "  <thead>\n",
       "    <tr style=\"text-align: right;\">\n",
       "      <th></th>\n",
       "      <th>user_id</th>\n",
       "      <th>session_id</th>\n",
       "      <th>session_start</th>\n",
       "      <th>session_size</th>\n",
       "      <th>article_id</th>\n",
       "      <th>click_timestamp</th>\n",
       "      <th>click_environment</th>\n",
       "      <th>click_deviceGroup</th>\n",
       "      <th>click_os</th>\n",
       "      <th>click_country</th>\n",
       "      <th>click_region</th>\n",
       "      <th>click_referrer_type</th>\n",
       "      <th>click</th>\n",
       "    </tr>\n",
       "  </thead>\n",
       "  <tbody>\n",
       "    <tr>\n",
       "      <th>0</th>\n",
       "      <td>5890</td>\n",
       "      <td>1506857592200716</td>\n",
       "      <td>2017-10-01 13:33:12</td>\n",
       "      <td>6</td>\n",
       "      <td>59704</td>\n",
       "      <td>2017-10-01 13:33:14</td>\n",
       "      <td>4</td>\n",
       "      <td>1</td>\n",
       "      <td>17</td>\n",
       "      <td>1</td>\n",
       "      <td>8</td>\n",
       "      <td>7</td>\n",
       "      <td>1</td>\n",
       "    </tr>\n",
       "    <tr>\n",
       "      <th>1</th>\n",
       "      <td>5890</td>\n",
       "      <td>1506857592200716</td>\n",
       "      <td>2017-10-01 13:33:12</td>\n",
       "      <td>6</td>\n",
       "      <td>59431</td>\n",
       "      <td>2017-10-01 13:33:14</td>\n",
       "      <td>4</td>\n",
       "      <td>1</td>\n",
       "      <td>17</td>\n",
       "      <td>1</td>\n",
       "      <td>8</td>\n",
       "      <td>7</td>\n",
       "      <td>1</td>\n",
       "    </tr>\n",
       "    <tr>\n",
       "      <th>2</th>\n",
       "      <td>5890</td>\n",
       "      <td>1506857592200716</td>\n",
       "      <td>2017-10-01 13:33:12</td>\n",
       "      <td>6</td>\n",
       "      <td>68866</td>\n",
       "      <td>2017-10-01 13:33:58</td>\n",
       "      <td>4</td>\n",
       "      <td>1</td>\n",
       "      <td>17</td>\n",
       "      <td>1</td>\n",
       "      <td>8</td>\n",
       "      <td>7</td>\n",
       "      <td>1</td>\n",
       "    </tr>\n",
       "    <tr>\n",
       "      <th>3</th>\n",
       "      <td>5890</td>\n",
       "      <td>1506857592200716</td>\n",
       "      <td>2017-10-01 13:33:12</td>\n",
       "      <td>6</td>\n",
       "      <td>195106</td>\n",
       "      <td>2017-10-01 13:34:57</td>\n",
       "      <td>4</td>\n",
       "      <td>1</td>\n",
       "      <td>17</td>\n",
       "      <td>1</td>\n",
       "      <td>8</td>\n",
       "      <td>7</td>\n",
       "      <td>1</td>\n",
       "    </tr>\n",
       "    <tr>\n",
       "      <th>4</th>\n",
       "      <td>5890</td>\n",
       "      <td>1506857592200716</td>\n",
       "      <td>2017-10-01 13:33:12</td>\n",
       "      <td>6</td>\n",
       "      <td>353724</td>\n",
       "      <td>2017-10-01 13:34:57</td>\n",
       "      <td>4</td>\n",
       "      <td>1</td>\n",
       "      <td>17</td>\n",
       "      <td>1</td>\n",
       "      <td>8</td>\n",
       "      <td>7</td>\n",
       "      <td>1</td>\n",
       "    </tr>\n",
       "    <tr>\n",
       "      <th>...</th>\n",
       "      <td>...</td>\n",
       "      <td>...</td>\n",
       "      <td>...</td>\n",
       "      <td>...</td>\n",
       "      <td>...</td>\n",
       "      <td>...</td>\n",
       "      <td>...</td>\n",
       "      <td>...</td>\n",
       "      <td>...</td>\n",
       "      <td>...</td>\n",
       "      <td>...</td>\n",
       "      <td>...</td>\n",
       "      <td>...</td>\n",
       "    </tr>\n",
       "    <tr>\n",
       "      <th>21726</th>\n",
       "      <td>23295</td>\n",
       "      <td>1506890556482117</td>\n",
       "      <td>2017-10-01 22:42:36</td>\n",
       "      <td>5</td>\n",
       "      <td>284463</td>\n",
       "      <td>2017-10-01 22:45:11</td>\n",
       "      <td>4</td>\n",
       "      <td>3</td>\n",
       "      <td>2</td>\n",
       "      <td>1</td>\n",
       "      <td>21</td>\n",
       "      <td>2</td>\n",
       "      <td>1</td>\n",
       "    </tr>\n",
       "    <tr>\n",
       "      <th>21727</th>\n",
       "      <td>23295</td>\n",
       "      <td>1506890556482117</td>\n",
       "      <td>2017-10-01 22:42:36</td>\n",
       "      <td>5</td>\n",
       "      <td>242485</td>\n",
       "      <td>2017-10-01 22:48:52</td>\n",
       "      <td>4</td>\n",
       "      <td>3</td>\n",
       "      <td>2</td>\n",
       "      <td>1</td>\n",
       "      <td>21</td>\n",
       "      <td>1</td>\n",
       "      <td>1</td>\n",
       "    </tr>\n",
       "    <tr>\n",
       "      <th>21728</th>\n",
       "      <td>23295</td>\n",
       "      <td>1506890556482117</td>\n",
       "      <td>2017-10-01 22:42:36</td>\n",
       "      <td>5</td>\n",
       "      <td>96663</td>\n",
       "      <td>2017-10-01 22:52:13</td>\n",
       "      <td>4</td>\n",
       "      <td>3</td>\n",
       "      <td>2</td>\n",
       "      <td>1</td>\n",
       "      <td>21</td>\n",
       "      <td>2</td>\n",
       "      <td>1</td>\n",
       "    </tr>\n",
       "    <tr>\n",
       "      <th>21729</th>\n",
       "      <td>23295</td>\n",
       "      <td>1506890556482117</td>\n",
       "      <td>2017-10-01 22:42:36</td>\n",
       "      <td>5</td>\n",
       "      <td>265147</td>\n",
       "      <td>2017-10-01 22:54:08</td>\n",
       "      <td>4</td>\n",
       "      <td>3</td>\n",
       "      <td>2</td>\n",
       "      <td>1</td>\n",
       "      <td>21</td>\n",
       "      <td>1</td>\n",
       "      <td>1</td>\n",
       "    </tr>\n",
       "    <tr>\n",
       "      <th>21730</th>\n",
       "      <td>23295</td>\n",
       "      <td>1506890556482117</td>\n",
       "      <td>2017-10-01 22:42:36</td>\n",
       "      <td>5</td>\n",
       "      <td>264658</td>\n",
       "      <td>2017-10-01 22:54:38</td>\n",
       "      <td>4</td>\n",
       "      <td>3</td>\n",
       "      <td>2</td>\n",
       "      <td>1</td>\n",
       "      <td>21</td>\n",
       "      <td>1</td>\n",
       "      <td>1</td>\n",
       "    </tr>\n",
       "  </tbody>\n",
       "</table>\n",
       "<p>21731 rows × 13 columns</p>\n",
       "</div>"
      ],
      "text/plain": [
       "       user_id        session_id       session_start  session_size  \\\n",
       "0         5890  1506857592200716 2017-10-01 13:33:12             6   \n",
       "1         5890  1506857592200716 2017-10-01 13:33:12             6   \n",
       "2         5890  1506857592200716 2017-10-01 13:33:12             6   \n",
       "3         5890  1506857592200716 2017-10-01 13:33:12             6   \n",
       "4         5890  1506857592200716 2017-10-01 13:33:12             6   \n",
       "...        ...               ...                 ...           ...   \n",
       "21726    23295  1506890556482117 2017-10-01 22:42:36             5   \n",
       "21727    23295  1506890556482117 2017-10-01 22:42:36             5   \n",
       "21728    23295  1506890556482117 2017-10-01 22:42:36             5   \n",
       "21729    23295  1506890556482117 2017-10-01 22:42:36             5   \n",
       "21730    23295  1506890556482117 2017-10-01 22:42:36             5   \n",
       "\n",
       "       article_id     click_timestamp  click_environment  click_deviceGroup  \\\n",
       "0           59704 2017-10-01 13:33:14                  4                  1   \n",
       "1           59431 2017-10-01 13:33:14                  4                  1   \n",
       "2           68866 2017-10-01 13:33:58                  4                  1   \n",
       "3          195106 2017-10-01 13:34:57                  4                  1   \n",
       "4          353724 2017-10-01 13:34:57                  4                  1   \n",
       "...           ...                 ...                ...                ...   \n",
       "21726      284463 2017-10-01 22:45:11                  4                  3   \n",
       "21727      242485 2017-10-01 22:48:52                  4                  3   \n",
       "21728       96663 2017-10-01 22:52:13                  4                  3   \n",
       "21729      265147 2017-10-01 22:54:08                  4                  3   \n",
       "21730      264658 2017-10-01 22:54:38                  4                  3   \n",
       "\n",
       "       click_os  click_country  click_region  click_referrer_type  click  \n",
       "0            17              1             8                    7      1  \n",
       "1            17              1             8                    7      1  \n",
       "2            17              1             8                    7      1  \n",
       "3            17              1             8                    7      1  \n",
       "4            17              1             8                    7      1  \n",
       "...         ...            ...           ...                  ...    ...  \n",
       "21726         2              1            21                    2      1  \n",
       "21727         2              1            21                    1      1  \n",
       "21728         2              1            21                    2      1  \n",
       "21729         2              1            21                    1      1  \n",
       "21730         2              1            21                    1      1  \n",
       "\n",
       "[21731 rows x 13 columns]"
      ]
     },
     "execution_count": 83,
     "metadata": {},
     "output_type": "execute_result"
    }
   ],
   "source": [
    "filtered_clicks_5"
   ]
  },
  {
   "cell_type": "code",
   "execution_count": 84,
   "metadata": {},
   "outputs": [
    {
     "data": {
      "text/html": [
       "<div>\n",
       "<style scoped>\n",
       "    .dataframe tbody tr th:only-of-type {\n",
       "        vertical-align: middle;\n",
       "    }\n",
       "\n",
       "    .dataframe tbody tr th {\n",
       "        vertical-align: top;\n",
       "    }\n",
       "\n",
       "    .dataframe thead th {\n",
       "        text-align: right;\n",
       "    }\n",
       "</style>\n",
       "<table border=\"1\" class=\"dataframe\">\n",
       "  <thead>\n",
       "    <tr style=\"text-align: right;\">\n",
       "      <th></th>\n",
       "      <th>user_id</th>\n",
       "      <th>article_id</th>\n",
       "      <th>click</th>\n",
       "    </tr>\n",
       "  </thead>\n",
       "  <tbody>\n",
       "    <tr>\n",
       "      <th>0</th>\n",
       "      <td>3</td>\n",
       "      <td>233769</td>\n",
       "      <td>1</td>\n",
       "    </tr>\n",
       "    <tr>\n",
       "      <th>1</th>\n",
       "      <td>3</td>\n",
       "      <td>234686</td>\n",
       "      <td>1</td>\n",
       "    </tr>\n",
       "    <tr>\n",
       "      <th>2</th>\n",
       "      <td>3</td>\n",
       "      <td>235665</td>\n",
       "      <td>1</td>\n",
       "    </tr>\n",
       "    <tr>\n",
       "      <th>3</th>\n",
       "      <td>3</td>\n",
       "      <td>236065</td>\n",
       "      <td>1</td>\n",
       "    </tr>\n",
       "    <tr>\n",
       "      <th>4</th>\n",
       "      <td>3</td>\n",
       "      <td>236294</td>\n",
       "      <td>1</td>\n",
       "    </tr>\n",
       "  </tbody>\n",
       "</table>\n",
       "</div>"
      ],
      "text/plain": [
       "   user_id  article_id  click\n",
       "0        3      233769      1\n",
       "1        3      234686      1\n",
       "2        3      235665      1\n",
       "3        3      236065      1\n",
       "4        3      236294      1"
      ]
     },
     "execution_count": 84,
     "metadata": {},
     "output_type": "execute_result"
    }
   ],
   "source": [
    "interactions_df = filtered_clicks_5.groupby(['user_id', 'article_id'])['click'].sum().reset_index()\n",
    "interactions_df.head()"
   ]
  },
  {
   "cell_type": "code",
   "execution_count": 85,
   "metadata": {},
   "outputs": [],
   "source": [
    "assert interactions_df.click.sum() == len(filtered_clicks_5)"
   ]
  },
  {
   "cell_type": "markdown",
   "metadata": {},
   "source": [
    "## 2.4. Fichier articles avec embedding"
   ]
  },
  {
   "cell_type": "code",
   "execution_count": 86,
   "metadata": {},
   "outputs": [],
   "source": [
    "articles_df = pd.concat([articles_metadata, embeddings_df], axis=1)"
   ]
  },
  {
   "cell_type": "code",
   "execution_count": 87,
   "metadata": {},
   "outputs": [],
   "source": [
    "articles_df = articles_df.set_index('article_id')"
   ]
  },
  {
   "cell_type": "markdown",
   "metadata": {},
   "source": [
    "## 2.6. Limiter le fichier des articles aux articles cliqués"
   ]
  },
  {
   "cell_type": "markdown",
   "metadata": {},
   "source": [
    "On limite aux articles de notre fichier d'interactions"
   ]
  },
  {
   "cell_type": "code",
   "execution_count": 90,
   "metadata": {},
   "outputs": [
    {
     "data": {
      "text/plain": [
       "1842"
      ]
     },
     "execution_count": 90,
     "metadata": {},
     "output_type": "execute_result"
    }
   ],
   "source": [
    "interacted_article_ids = list(set(interactions_df['article_id']))\n",
    "len(interacted_article_ids)"
   ]
  },
  {
   "cell_type": "code",
   "execution_count": 91,
   "metadata": {},
   "outputs": [
    {
     "data": {
      "text/html": [
       "<div>\n",
       "<style scoped>\n",
       "    .dataframe tbody tr th:only-of-type {\n",
       "        vertical-align: middle;\n",
       "    }\n",
       "\n",
       "    .dataframe tbody tr th {\n",
       "        vertical-align: top;\n",
       "    }\n",
       "\n",
       "    .dataframe thead th {\n",
       "        text-align: right;\n",
       "    }\n",
       "</style>\n",
       "<table border=\"1\" class=\"dataframe\">\n",
       "  <thead>\n",
       "    <tr style=\"text-align: right;\">\n",
       "      <th></th>\n",
       "      <th>category_id</th>\n",
       "      <th>created_at_ts</th>\n",
       "      <th>words_count</th>\n",
       "      <th>embedding_0</th>\n",
       "      <th>embedding_1</th>\n",
       "      <th>embedding_2</th>\n",
       "      <th>embedding_3</th>\n",
       "      <th>embedding_4</th>\n",
       "      <th>embedding_5</th>\n",
       "      <th>embedding_6</th>\n",
       "      <th>...</th>\n",
       "      <th>embedding_240</th>\n",
       "      <th>embedding_241</th>\n",
       "      <th>embedding_242</th>\n",
       "      <th>embedding_243</th>\n",
       "      <th>embedding_244</th>\n",
       "      <th>embedding_245</th>\n",
       "      <th>embedding_246</th>\n",
       "      <th>embedding_247</th>\n",
       "      <th>embedding_248</th>\n",
       "      <th>embedding_249</th>\n",
       "    </tr>\n",
       "    <tr>\n",
       "      <th>article_id</th>\n",
       "      <th></th>\n",
       "      <th></th>\n",
       "      <th></th>\n",
       "      <th></th>\n",
       "      <th></th>\n",
       "      <th></th>\n",
       "      <th></th>\n",
       "      <th></th>\n",
       "      <th></th>\n",
       "      <th></th>\n",
       "      <th></th>\n",
       "      <th></th>\n",
       "      <th></th>\n",
       "      <th></th>\n",
       "      <th></th>\n",
       "      <th></th>\n",
       "      <th></th>\n",
       "      <th></th>\n",
       "      <th></th>\n",
       "      <th></th>\n",
       "      <th></th>\n",
       "    </tr>\n",
       "  </thead>\n",
       "  <tbody>\n",
       "    <tr>\n",
       "      <th>319488</th>\n",
       "      <td>433</td>\n",
       "      <td>2017-09-29 15:47:18</td>\n",
       "      <td>157</td>\n",
       "      <td>-0.466458</td>\n",
       "      <td>-0.964679</td>\n",
       "      <td>-0.485105</td>\n",
       "      <td>-0.877867</td>\n",
       "      <td>0.391511</td>\n",
       "      <td>0.483561</td>\n",
       "      <td>0.005480</td>\n",
       "      <td>...</td>\n",
       "      <td>-0.814141</td>\n",
       "      <td>-0.442375</td>\n",
       "      <td>0.039461</td>\n",
       "      <td>0.395648</td>\n",
       "      <td>-0.747964</td>\n",
       "      <td>-0.382282</td>\n",
       "      <td>-0.632840</td>\n",
       "      <td>-0.387871</td>\n",
       "      <td>-0.056827</td>\n",
       "      <td>-0.199358</td>\n",
       "    </tr>\n",
       "    <tr>\n",
       "      <th>360463</th>\n",
       "      <td>455</td>\n",
       "      <td>2017-10-01 10:01:03</td>\n",
       "      <td>176</td>\n",
       "      <td>-0.602885</td>\n",
       "      <td>-0.961464</td>\n",
       "      <td>-0.565603</td>\n",
       "      <td>-0.649518</td>\n",
       "      <td>-0.559716</td>\n",
       "      <td>0.524595</td>\n",
       "      <td>-0.370100</td>\n",
       "      <td>...</td>\n",
       "      <td>-0.585967</td>\n",
       "      <td>-0.653178</td>\n",
       "      <td>-0.195667</td>\n",
       "      <td>0.249913</td>\n",
       "      <td>0.331547</td>\n",
       "      <td>0.119053</td>\n",
       "      <td>0.659684</td>\n",
       "      <td>-0.244358</td>\n",
       "      <td>-0.151648</td>\n",
       "      <td>0.401354</td>\n",
       "    </tr>\n",
       "    <tr>\n",
       "      <th>360465</th>\n",
       "      <td>455</td>\n",
       "      <td>2017-10-01 13:13:54</td>\n",
       "      <td>114</td>\n",
       "      <td>-0.205855</td>\n",
       "      <td>-0.957574</td>\n",
       "      <td>-0.878344</td>\n",
       "      <td>-0.431890</td>\n",
       "      <td>-0.693044</td>\n",
       "      <td>0.168474</td>\n",
       "      <td>-0.385850</td>\n",
       "      <td>...</td>\n",
       "      <td>-0.557692</td>\n",
       "      <td>-0.653369</td>\n",
       "      <td>-0.120972</td>\n",
       "      <td>-0.227757</td>\n",
       "      <td>0.475501</td>\n",
       "      <td>0.446490</td>\n",
       "      <td>0.455878</td>\n",
       "      <td>-0.210448</td>\n",
       "      <td>-0.116186</td>\n",
       "      <td>0.585806</td>\n",
       "    </tr>\n",
       "    <tr>\n",
       "      <th>106520</th>\n",
       "      <td>228</td>\n",
       "      <td>2017-08-11 21:11:33</td>\n",
       "      <td>112</td>\n",
       "      <td>0.505829</td>\n",
       "      <td>-0.931578</td>\n",
       "      <td>-0.277545</td>\n",
       "      <td>0.383692</td>\n",
       "      <td>-0.603157</td>\n",
       "      <td>0.135672</td>\n",
       "      <td>-0.137240</td>\n",
       "      <td>...</td>\n",
       "      <td>0.267274</td>\n",
       "      <td>-0.060965</td>\n",
       "      <td>0.684367</td>\n",
       "      <td>-0.198938</td>\n",
       "      <td>-0.601258</td>\n",
       "      <td>0.362214</td>\n",
       "      <td>0.370468</td>\n",
       "      <td>0.369780</td>\n",
       "      <td>0.006491</td>\n",
       "      <td>0.607185</td>\n",
       "    </tr>\n",
       "    <tr>\n",
       "      <th>180261</th>\n",
       "      <td>301</td>\n",
       "      <td>2016-11-19 13:30:13</td>\n",
       "      <td>199</td>\n",
       "      <td>-0.631314</td>\n",
       "      <td>-0.972719</td>\n",
       "      <td>0.554279</td>\n",
       "      <td>0.087726</td>\n",
       "      <td>0.090802</td>\n",
       "      <td>0.394112</td>\n",
       "      <td>0.057570</td>\n",
       "      <td>...</td>\n",
       "      <td>0.300368</td>\n",
       "      <td>-0.433697</td>\n",
       "      <td>-0.092218</td>\n",
       "      <td>-0.694479</td>\n",
       "      <td>0.208018</td>\n",
       "      <td>-0.244026</td>\n",
       "      <td>0.054419</td>\n",
       "      <td>-0.172014</td>\n",
       "      <td>0.355977</td>\n",
       "      <td>-0.357948</td>\n",
       "    </tr>\n",
       "    <tr>\n",
       "      <th>...</th>\n",
       "      <td>...</td>\n",
       "      <td>...</td>\n",
       "      <td>...</td>\n",
       "      <td>...</td>\n",
       "      <td>...</td>\n",
       "      <td>...</td>\n",
       "      <td>...</td>\n",
       "      <td>...</td>\n",
       "      <td>...</td>\n",
       "      <td>...</td>\n",
       "      <td>...</td>\n",
       "      <td>...</td>\n",
       "      <td>...</td>\n",
       "      <td>...</td>\n",
       "      <td>...</td>\n",
       "      <td>...</td>\n",
       "      <td>...</td>\n",
       "      <td>...</td>\n",
       "      <td>...</td>\n",
       "      <td>...</td>\n",
       "      <td>...</td>\n",
       "    </tr>\n",
       "    <tr>\n",
       "      <th>32730</th>\n",
       "      <td>26</td>\n",
       "      <td>2017-05-09 17:45:00</td>\n",
       "      <td>187</td>\n",
       "      <td>-0.063069</td>\n",
       "      <td>-0.963189</td>\n",
       "      <td>-0.020831</td>\n",
       "      <td>0.328858</td>\n",
       "      <td>0.314361</td>\n",
       "      <td>-0.227227</td>\n",
       "      <td>0.389601</td>\n",
       "      <td>...</td>\n",
       "      <td>0.528567</td>\n",
       "      <td>0.427474</td>\n",
       "      <td>0.461421</td>\n",
       "      <td>-0.461597</td>\n",
       "      <td>-0.333884</td>\n",
       "      <td>0.534221</td>\n",
       "      <td>-0.199299</td>\n",
       "      <td>-0.593895</td>\n",
       "      <td>0.302743</td>\n",
       "      <td>-0.524815</td>\n",
       "    </tr>\n",
       "    <tr>\n",
       "      <th>352227</th>\n",
       "      <td>442</td>\n",
       "      <td>2017-08-01 19:20:39</td>\n",
       "      <td>151</td>\n",
       "      <td>-0.037319</td>\n",
       "      <td>-0.970653</td>\n",
       "      <td>0.235284</td>\n",
       "      <td>-0.792944</td>\n",
       "      <td>-0.652155</td>\n",
       "      <td>-0.429864</td>\n",
       "      <td>0.559105</td>\n",
       "      <td>...</td>\n",
       "      <td>-0.535248</td>\n",
       "      <td>-0.867873</td>\n",
       "      <td>-0.768359</td>\n",
       "      <td>0.483744</td>\n",
       "      <td>0.029526</td>\n",
       "      <td>0.570641</td>\n",
       "      <td>0.170771</td>\n",
       "      <td>-0.608991</td>\n",
       "      <td>0.154890</td>\n",
       "      <td>0.234986</td>\n",
       "    </tr>\n",
       "    <tr>\n",
       "      <th>311282</th>\n",
       "      <td>431</td>\n",
       "      <td>2016-03-15 13:03:49</td>\n",
       "      <td>183</td>\n",
       "      <td>-0.320332</td>\n",
       "      <td>-0.972268</td>\n",
       "      <td>0.788268</td>\n",
       "      <td>-0.835453</td>\n",
       "      <td>-0.814294</td>\n",
       "      <td>0.650294</td>\n",
       "      <td>0.580025</td>\n",
       "      <td>...</td>\n",
       "      <td>-0.786265</td>\n",
       "      <td>-0.272901</td>\n",
       "      <td>-0.877875</td>\n",
       "      <td>0.703472</td>\n",
       "      <td>-0.748671</td>\n",
       "      <td>0.258157</td>\n",
       "      <td>-0.033027</td>\n",
       "      <td>0.110924</td>\n",
       "      <td>-0.687876</td>\n",
       "      <td>-0.688037</td>\n",
       "    </tr>\n",
       "    <tr>\n",
       "      <th>196595</th>\n",
       "      <td>323</td>\n",
       "      <td>2014-01-13 19:24:01</td>\n",
       "      <td>214</td>\n",
       "      <td>-0.416054</td>\n",
       "      <td>-0.976075</td>\n",
       "      <td>-0.187173</td>\n",
       "      <td>-0.600695</td>\n",
       "      <td>0.446745</td>\n",
       "      <td>0.531058</td>\n",
       "      <td>-0.150488</td>\n",
       "      <td>...</td>\n",
       "      <td>-0.132207</td>\n",
       "      <td>0.384831</td>\n",
       "      <td>-0.311023</td>\n",
       "      <td>-0.531965</td>\n",
       "      <td>0.383805</td>\n",
       "      <td>-0.373510</td>\n",
       "      <td>0.313573</td>\n",
       "      <td>0.344284</td>\n",
       "      <td>0.342517</td>\n",
       "      <td>-0.579160</td>\n",
       "    </tr>\n",
       "    <tr>\n",
       "      <th>32764</th>\n",
       "      <td>26</td>\n",
       "      <td>2017-09-29 10:16:03</td>\n",
       "      <td>238</td>\n",
       "      <td>0.036364</td>\n",
       "      <td>-0.967300</td>\n",
       "      <td>0.053178</td>\n",
       "      <td>0.170870</td>\n",
       "      <td>0.413942</td>\n",
       "      <td>-0.323325</td>\n",
       "      <td>-0.298869</td>\n",
       "      <td>...</td>\n",
       "      <td>0.775269</td>\n",
       "      <td>0.289842</td>\n",
       "      <td>-0.222502</td>\n",
       "      <td>-0.805414</td>\n",
       "      <td>-0.625496</td>\n",
       "      <td>-0.160882</td>\n",
       "      <td>0.242950</td>\n",
       "      <td>-0.869178</td>\n",
       "      <td>-0.281071</td>\n",
       "      <td>-0.185283</td>\n",
       "    </tr>\n",
       "  </tbody>\n",
       "</table>\n",
       "<p>1842 rows × 253 columns</p>\n",
       "</div>"
      ],
      "text/plain": [
       "            category_id       created_at_ts  words_count  embedding_0  \\\n",
       "article_id                                                              \n",
       "319488              433 2017-09-29 15:47:18          157    -0.466458   \n",
       "360463              455 2017-10-01 10:01:03          176    -0.602885   \n",
       "360465              455 2017-10-01 13:13:54          114    -0.205855   \n",
       "106520              228 2017-08-11 21:11:33          112     0.505829   \n",
       "180261              301 2016-11-19 13:30:13          199    -0.631314   \n",
       "...                 ...                 ...          ...          ...   \n",
       "32730                26 2017-05-09 17:45:00          187    -0.063069   \n",
       "352227              442 2017-08-01 19:20:39          151    -0.037319   \n",
       "311282              431 2016-03-15 13:03:49          183    -0.320332   \n",
       "196595              323 2014-01-13 19:24:01          214    -0.416054   \n",
       "32764                26 2017-09-29 10:16:03          238     0.036364   \n",
       "\n",
       "            embedding_1  embedding_2  embedding_3  embedding_4  embedding_5  \\\n",
       "article_id                                                                    \n",
       "319488        -0.964679    -0.485105    -0.877867     0.391511     0.483561   \n",
       "360463        -0.961464    -0.565603    -0.649518    -0.559716     0.524595   \n",
       "360465        -0.957574    -0.878344    -0.431890    -0.693044     0.168474   \n",
       "106520        -0.931578    -0.277545     0.383692    -0.603157     0.135672   \n",
       "180261        -0.972719     0.554279     0.087726     0.090802     0.394112   \n",
       "...                 ...          ...          ...          ...          ...   \n",
       "32730         -0.963189    -0.020831     0.328858     0.314361    -0.227227   \n",
       "352227        -0.970653     0.235284    -0.792944    -0.652155    -0.429864   \n",
       "311282        -0.972268     0.788268    -0.835453    -0.814294     0.650294   \n",
       "196595        -0.976075    -0.187173    -0.600695     0.446745     0.531058   \n",
       "32764         -0.967300     0.053178     0.170870     0.413942    -0.323325   \n",
       "\n",
       "            embedding_6  ...  embedding_240  embedding_241  embedding_242  \\\n",
       "article_id               ...                                                \n",
       "319488         0.005480  ...      -0.814141      -0.442375       0.039461   \n",
       "360463        -0.370100  ...      -0.585967      -0.653178      -0.195667   \n",
       "360465        -0.385850  ...      -0.557692      -0.653369      -0.120972   \n",
       "106520        -0.137240  ...       0.267274      -0.060965       0.684367   \n",
       "180261         0.057570  ...       0.300368      -0.433697      -0.092218   \n",
       "...                 ...  ...            ...            ...            ...   \n",
       "32730          0.389601  ...       0.528567       0.427474       0.461421   \n",
       "352227         0.559105  ...      -0.535248      -0.867873      -0.768359   \n",
       "311282         0.580025  ...      -0.786265      -0.272901      -0.877875   \n",
       "196595        -0.150488  ...      -0.132207       0.384831      -0.311023   \n",
       "32764         -0.298869  ...       0.775269       0.289842      -0.222502   \n",
       "\n",
       "            embedding_243  embedding_244  embedding_245  embedding_246  \\\n",
       "article_id                                                               \n",
       "319488           0.395648      -0.747964      -0.382282      -0.632840   \n",
       "360463           0.249913       0.331547       0.119053       0.659684   \n",
       "360465          -0.227757       0.475501       0.446490       0.455878   \n",
       "106520          -0.198938      -0.601258       0.362214       0.370468   \n",
       "180261          -0.694479       0.208018      -0.244026       0.054419   \n",
       "...                   ...            ...            ...            ...   \n",
       "32730           -0.461597      -0.333884       0.534221      -0.199299   \n",
       "352227           0.483744       0.029526       0.570641       0.170771   \n",
       "311282           0.703472      -0.748671       0.258157      -0.033027   \n",
       "196595          -0.531965       0.383805      -0.373510       0.313573   \n",
       "32764           -0.805414      -0.625496      -0.160882       0.242950   \n",
       "\n",
       "            embedding_247  embedding_248  embedding_249  \n",
       "article_id                                               \n",
       "319488          -0.387871      -0.056827      -0.199358  \n",
       "360463          -0.244358      -0.151648       0.401354  \n",
       "360465          -0.210448      -0.116186       0.585806  \n",
       "106520           0.369780       0.006491       0.607185  \n",
       "180261          -0.172014       0.355977      -0.357948  \n",
       "...                   ...            ...            ...  \n",
       "32730           -0.593895       0.302743      -0.524815  \n",
       "352227          -0.608991       0.154890       0.234986  \n",
       "311282           0.110924      -0.687876      -0.688037  \n",
       "196595           0.344284       0.342517      -0.579160  \n",
       "32764           -0.869178      -0.281071      -0.185283  \n",
       "\n",
       "[1842 rows x 253 columns]"
      ]
     },
     "execution_count": 91,
     "metadata": {},
     "output_type": "execute_result"
    }
   ],
   "source": [
    "articles_min_df = articles_df.loc[interacted_article_ids]\n",
    "articles_min_df"
   ]
  },
  {
   "cell_type": "markdown",
   "metadata": {},
   "source": [
    "# Exports"
   ]
  },
  {
   "cell_type": "code",
   "execution_count": 92,
   "metadata": {},
   "outputs": [],
   "source": [
    "PREPROCESS_DATA_PATH = 'data/1_preprocessed/'"
   ]
  },
  {
   "cell_type": "code",
   "execution_count": 93,
   "metadata": {},
   "outputs": [],
   "source": [
    "interactions_df.to_csv(PREPROCESS_DATA_PATH + 'interactions_df.csv')"
   ]
  },
  {
   "cell_type": "code",
   "execution_count": 94,
   "metadata": {},
   "outputs": [],
   "source": [
    "articles_min_df.to_csv(PREPROCESS_DATA_PATH + 'articles_min.csv')"
   ]
  },
  {
   "cell_type": "code",
   "execution_count": null,
   "metadata": {},
   "outputs": [],
   "source": []
  }
 ],
 "metadata": {
  "kernelspec": {
   "display_name": "Python 3 (ipykernel)",
   "language": "python",
   "name": "python3"
  },
  "language_info": {
   "codemirror_mode": {
    "name": "ipython",
    "version": 3
   },
   "file_extension": ".py",
   "mimetype": "text/x-python",
   "name": "python",
   "nbconvert_exporter": "python",
   "pygments_lexer": "ipython3",
   "version": "3.11.9"
  }
 },
 "nbformat": 4,
 "nbformat_minor": 4
}
